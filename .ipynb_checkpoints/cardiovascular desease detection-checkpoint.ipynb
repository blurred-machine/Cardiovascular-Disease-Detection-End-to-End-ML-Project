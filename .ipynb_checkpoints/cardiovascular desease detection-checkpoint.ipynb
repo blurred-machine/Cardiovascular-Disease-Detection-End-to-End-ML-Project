{
 "cells": [
  {
   "cell_type": "markdown",
   "metadata": {},
   "source": [
    "# Cardiovascular desease detection"
   ]
  },
  {
   "cell_type": "markdown",
   "metadata": {},
   "source": [
    "## Project by: PARAS VARSHNEY"
   ]
  },
  {
   "cell_type": "markdown",
   "metadata": {},
   "source": [
    "### Importing Libraries"
   ]
  },
  {
   "cell_type": "code",
   "execution_count": 27,
   "metadata": {},
   "outputs": [],
   "source": [
    "import pandas as pd\n",
    "import numpy as np\n",
    "import matplotlib.pyplot as plt\n",
    "%matplotlib inline\n",
    "import seaborn as sns\n",
    "\n",
    "from sklearn.externals import joblib \n",
    "from tqdm import tqdm\n",
    "\n",
    "import warnings\n",
    "warnings.filterwarnings(\"ignore\")\n",
    "\n",
    "\n",
    "from sklearn.preprocessing import LabelEncoder, OneHotEncoder\n",
    "from sklearn.compose import ColumnTransformer\n",
    "from sklearn.preprocessing import Normalizer\n",
    "\n",
    "import scipy.stats as stats\n",
    "from scipy.stats import norm ,rankdata\n",
    "\n",
    "from scipy.special import boxcox1p\n",
    "from scipy.stats import normaltest\n",
    "import statsmodels\n",
    "import statsmodels.api as sm\n",
    "from scipy.optimize import curve_fit\n",
    "\n",
    "import tensorflow as tf\n",
    "from tensorflow.keras.models import Sequential\n",
    "from tensorflow.keras.layers import Dense, Dropout\n",
    "from tensorflow.keras.wrappers.scikit_learn import KerasClassifier\n",
    "from sklearn.model_selection import cross_val_score\n",
    "from sklearn.model_selection import GridSearchCV\n",
    "from sklearn.preprocessing import StandardScaler\n",
    "from sklearn.metrics import confusion_matrix\n",
    "from sklearn.preprocessing import PowerTransformer\n",
    "\n",
    "\n",
    "from sklearn.cluster import KMeans\n",
    "from sklearn.neighbors import KNeighborsClassifier\n",
    "from sklearn.svm import SVC\n",
    "from sklearn.multioutput import MultiOutputClassifier\n",
    "from sklearn.ensemble import GradientBoostingClassifier\n",
    "from sklearn.tree import DecisionTreeClassifier\n",
    "from sklearn.naive_bayes import GaussianNB\n",
    "from sklearn.ensemble import RandomForestClassifier\n",
    "from sklearn.linear_model import LogisticRegression\n",
    "from sklearn.model_selection import KFold, cross_val_score, train_test_split\n",
    "from sklearn.metrics import classification_report,confusion_matrix\n",
    "import xgboost as xgb"
   ]
  },
  {
   "cell_type": "code",
   "execution_count": 28,
   "metadata": {},
   "outputs": [],
   "source": [
    "data_url = \"https://raw.githubusercontent.com/paras009/Cardiovascular-Disease-Detection/master/cardio_train.csv?token=AGEPDXH47ZCA3MSUDB6K7I26XQPH2\""
   ]
  },
  {
   "cell_type": "code",
   "execution_count": 29,
   "metadata": {},
   "outputs": [],
   "source": [
    "# raw_df = pd.read_csv(data_url, sep=\";\")\n",
    "raw_df = pd.read_csv(\"cardio_train.csv\", sep=\";\")"
   ]
  },
  {
   "cell_type": "code",
   "execution_count": 30,
   "metadata": {},
   "outputs": [
    {
     "data": {
      "text/html": [
       "<div>\n",
       "<style scoped>\n",
       "    .dataframe tbody tr th:only-of-type {\n",
       "        vertical-align: middle;\n",
       "    }\n",
       "\n",
       "    .dataframe tbody tr th {\n",
       "        vertical-align: top;\n",
       "    }\n",
       "\n",
       "    .dataframe thead th {\n",
       "        text-align: right;\n",
       "    }\n",
       "</style>\n",
       "<table border=\"1\" class=\"dataframe\">\n",
       "  <thead>\n",
       "    <tr style=\"text-align: right;\">\n",
       "      <th></th>\n",
       "      <th>id</th>\n",
       "      <th>age</th>\n",
       "      <th>gender</th>\n",
       "      <th>height</th>\n",
       "      <th>weight</th>\n",
       "      <th>ap_hi</th>\n",
       "      <th>ap_lo</th>\n",
       "      <th>cholesterol</th>\n",
       "      <th>gluc</th>\n",
       "      <th>smoke</th>\n",
       "      <th>alco</th>\n",
       "      <th>active</th>\n",
       "      <th>cardio</th>\n",
       "    </tr>\n",
       "  </thead>\n",
       "  <tbody>\n",
       "    <tr>\n",
       "      <th>0</th>\n",
       "      <td>988</td>\n",
       "      <td>22469</td>\n",
       "      <td>1</td>\n",
       "      <td>155</td>\n",
       "      <td>69.0</td>\n",
       "      <td>130</td>\n",
       "      <td>80</td>\n",
       "      <td>2</td>\n",
       "      <td>2</td>\n",
       "      <td>0</td>\n",
       "      <td>0</td>\n",
       "      <td>1</td>\n",
       "      <td>0</td>\n",
       "    </tr>\n",
       "    <tr>\n",
       "      <th>1</th>\n",
       "      <td>989</td>\n",
       "      <td>14648</td>\n",
       "      <td>1</td>\n",
       "      <td>163</td>\n",
       "      <td>71.0</td>\n",
       "      <td>110</td>\n",
       "      <td>70</td>\n",
       "      <td>1</td>\n",
       "      <td>1</td>\n",
       "      <td>0</td>\n",
       "      <td>0</td>\n",
       "      <td>1</td>\n",
       "      <td>1</td>\n",
       "    </tr>\n",
       "    <tr>\n",
       "      <th>2</th>\n",
       "      <td>990</td>\n",
       "      <td>21901</td>\n",
       "      <td>1</td>\n",
       "      <td>165</td>\n",
       "      <td>70.0</td>\n",
       "      <td>120</td>\n",
       "      <td>80</td>\n",
       "      <td>1</td>\n",
       "      <td>1</td>\n",
       "      <td>0</td>\n",
       "      <td>0</td>\n",
       "      <td>1</td>\n",
       "      <td>0</td>\n",
       "    </tr>\n",
       "    <tr>\n",
       "      <th>3</th>\n",
       "      <td>991</td>\n",
       "      <td>14549</td>\n",
       "      <td>2</td>\n",
       "      <td>165</td>\n",
       "      <td>85.0</td>\n",
       "      <td>120</td>\n",
       "      <td>80</td>\n",
       "      <td>1</td>\n",
       "      <td>1</td>\n",
       "      <td>1</td>\n",
       "      <td>1</td>\n",
       "      <td>1</td>\n",
       "      <td>0</td>\n",
       "    </tr>\n",
       "    <tr>\n",
       "      <th>4</th>\n",
       "      <td>992</td>\n",
       "      <td>23393</td>\n",
       "      <td>1</td>\n",
       "      <td>155</td>\n",
       "      <td>62.0</td>\n",
       "      <td>120</td>\n",
       "      <td>80</td>\n",
       "      <td>1</td>\n",
       "      <td>1</td>\n",
       "      <td>0</td>\n",
       "      <td>0</td>\n",
       "      <td>1</td>\n",
       "      <td>0</td>\n",
       "    </tr>\n",
       "  </tbody>\n",
       "</table>\n",
       "</div>"
      ],
      "text/plain": [
       "    id    age  gender  height  weight  ap_hi  ap_lo  cholesterol  gluc  smoke  \\\n",
       "0  988  22469       1     155    69.0    130     80            2     2      0   \n",
       "1  989  14648       1     163    71.0    110     70            1     1      0   \n",
       "2  990  21901       1     165    70.0    120     80            1     1      0   \n",
       "3  991  14549       2     165    85.0    120     80            1     1      1   \n",
       "4  992  23393       1     155    62.0    120     80            1     1      0   \n",
       "\n",
       "   alco  active  cardio  \n",
       "0     0       1       0  \n",
       "1     0       1       1  \n",
       "2     0       1       0  \n",
       "3     1       1       0  \n",
       "4     0       1       0  "
      ]
     },
     "execution_count": 30,
     "metadata": {},
     "output_type": "execute_result"
    }
   ],
   "source": [
    "raw_df.head()"
   ]
  },
  {
   "cell_type": "code",
   "execution_count": 5,
   "metadata": {},
   "outputs": [
    {
     "data": {
      "text/plain": [
       "Index(['id', 'age', 'gender', 'height', 'weight', 'ap_hi', 'ap_lo',\n",
       "       'cholesterol', 'gluc', 'smoke', 'alco', 'active', 'cardio'],\n",
       "      dtype='object')"
      ]
     },
     "execution_count": 5,
     "metadata": {},
     "output_type": "execute_result"
    }
   ],
   "source": [
    "raw_df.columns"
   ]
  },
  {
   "cell_type": "code",
   "execution_count": 6,
   "metadata": {},
   "outputs": [
    {
     "data": {
      "text/plain": [
       "1    58885\n",
       "3     5277\n",
       "2     5139\n",
       "Name: gluc, dtype: int64"
      ]
     },
     "execution_count": 6,
     "metadata": {},
     "output_type": "execute_result"
    }
   ],
   "source": [
    "raw_df.gluc.value_counts()"
   ]
  },
  {
   "cell_type": "code",
   "execution_count": 7,
   "metadata": {},
   "outputs": [
    {
     "data": {
      "text/plain": [
       "(69301, 13)"
      ]
     },
     "execution_count": 7,
     "metadata": {},
     "output_type": "execute_result"
    }
   ],
   "source": [
    "raw_df.shape"
   ]
  },
  {
   "cell_type": "code",
   "execution_count": 8,
   "metadata": {},
   "outputs": [
    {
     "name": "stdout",
     "output_type": "stream",
     "text": [
      "<class 'pandas.core.frame.DataFrame'>\n",
      "RangeIndex: 69301 entries, 0 to 69300\n",
      "Data columns (total 13 columns):\n",
      "id             69301 non-null int64\n",
      "age            69301 non-null int64\n",
      "gender         69301 non-null int64\n",
      "height         69301 non-null int64\n",
      "weight         69301 non-null float64\n",
      "ap_hi          69301 non-null int64\n",
      "ap_lo          69301 non-null int64\n",
      "cholesterol    69301 non-null int64\n",
      "gluc           69301 non-null int64\n",
      "smoke          69301 non-null int64\n",
      "alco           69301 non-null int64\n",
      "active         69301 non-null int64\n",
      "cardio         69301 non-null int64\n",
      "dtypes: float64(1), int64(12)\n",
      "memory usage: 6.9 MB\n"
     ]
    }
   ],
   "source": [
    "raw_df.info()"
   ]
  },
  {
   "cell_type": "code",
   "execution_count": 9,
   "metadata": {},
   "outputs": [
    {
     "data": {
      "text/plain": [
       "id             False\n",
       "age            False\n",
       "gender         False\n",
       "height         False\n",
       "weight         False\n",
       "ap_hi          False\n",
       "ap_lo          False\n",
       "cholesterol    False\n",
       "gluc           False\n",
       "smoke          False\n",
       "alco           False\n",
       "active         False\n",
       "cardio         False\n",
       "dtype: bool"
      ]
     },
     "execution_count": 9,
     "metadata": {},
     "output_type": "execute_result"
    }
   ],
   "source": [
    "raw_df.isnull().any()"
   ]
  },
  {
   "cell_type": "code",
   "execution_count": null,
   "metadata": {},
   "outputs": [],
   "source": [
    "# raw_df.to_csv(r'exported_cardiovascular.csv', index = False)"
   ]
  },
  {
   "cell_type": "code",
   "execution_count": null,
   "metadata": {},
   "outputs": [],
   "source": [
    "fig, axes = plt.subplots(1, 3, figsize=(21,6))\n",
    "sns.violinplot(x=\"cardio\", y=\"age\", data=raw_df, ax=axes[0])\n",
    "sns.violinplot(x=\"cardio\", y=\"height\", data=raw_df, ax=axes[1])\n",
    "sns.violinplot(x=\"cardio\", y=\"weight\", data=raw_df, ax=axes[2])\n",
    "\n",
    "fig, axes = plt.subplots(1, 2, figsize=(21,6))\n",
    "sns.violinplot(x=\"cardio\", y=\"ap_hi\", data=raw_df, ax=axes[0])\n",
    "sns.violinplot(x=\"cardio\", y=\"ap_lo\", data=raw_df, ax=axes[1])"
   ]
  },
  {
   "cell_type": "code",
   "execution_count": null,
   "metadata": {},
   "outputs": [],
   "source": [
    "def plot_scatter(data):\n",
    "    fig, ax = plt.subplots(figsize=(21,6))\n",
    "    ax.scatter(range(len(data)), data)\n",
    "    ax.set_xlabel(\"values\")\n",
    "    ax.set_ylabel(\"data point\")\n",
    "    plt.show()\n"
   ]
  },
  {
   "cell_type": "code",
   "execution_count": null,
   "metadata": {},
   "outputs": [],
   "source": [
    "data = raw_df[\"age\"]\n",
    "plot_scatter(data)\n",
    "\n",
    "data = raw_df[\"height\"]\n",
    "plot_scatter(data)\n",
    "\n",
    "data = raw_df[\"weight\"]\n",
    "plot_scatter(data)\n",
    "\n",
    "data = raw_df[\"ap_hi\"]\n",
    "plot_scatter(data)\n",
    "\n",
    "data = raw_df[\"ap_lo\"]\n",
    "plot_scatter(data)"
   ]
  },
  {
   "cell_type": "code",
   "execution_count": null,
   "metadata": {},
   "outputs": [],
   "source": [
    "# z = np.abs(stats.zscore(raw_df))\n",
    "\n",
    "# Q1 = raw_df.quantile(0.25)\n",
    "# Q3 = raw_df.quantile(0.75)\n",
    "# IQR = Q3 - Q1\n",
    "# print(IQR)\n",
    "\n",
    "# raw_df[[\"age\", \"height\", \"weight\", \"ap_hi\"]] = raw_df[[\"age\", \"height\", \"weight\", \"ap_hi\"]][(z < 3.5).all(axis=1)]\n",
    "# print(raw_df.shape)\n",
    "\n",
    "# data = raw_df[\"age\"]\n",
    "# plot_scatter(data)\n",
    "\n",
    "# data = raw_df[\"height\"]\n",
    "# plot_scatter(data)\n",
    "\n",
    "# data = raw_df[\"weight\"]\n",
    "# plot_scatter(data)\n",
    "\n",
    "# data = raw_df[\"ap_hi\"]\n",
    "# plot_scatter(data)\n",
    "\n",
    "# data = raw_df[\"ap_lo\"]\n",
    "# plot_scatter(data)"
   ]
  },
  {
   "cell_type": "code",
   "execution_count": null,
   "metadata": {},
   "outputs": [],
   "source": [
    " raw_df[\"ap_hi\"].shape"
   ]
  },
  {
   "cell_type": "code",
   "execution_count": null,
   "metadata": {},
   "outputs": [],
   "source": [
    "raw_df.isna().sum()"
   ]
  },
  {
   "cell_type": "code",
   "execution_count": null,
   "metadata": {},
   "outputs": [],
   "source": [
    "# p = [x for x in raw_df[\"ap_hi\"] if x > 0]\n",
    "# p = pd.DataFrame(p)\n",
    "# p.shape\n",
    "# raw_df[\"ap_hi\"] = p\n",
    "\n",
    "# raw_df = raw_df.ix[raw_df[\"ap_lo\"] > 0]\n",
    "# raw_df.shape\n",
    "\n",
    "# raw_df = raw_df.ix[raw_df[\"ap_hi\"] > 0]\n",
    "# raw_df.shape\n",
    "\n",
    "# raw_df = raw_df.ix[raw_df[\"age\"] > 0]\n",
    "# raw_df.shape\n",
    "\n",
    "# raw_df = raw_df.ix[raw_df[\"height\"] > 0]\n",
    "# raw_df.shape"
   ]
  },
  {
   "cell_type": "code",
   "execution_count": null,
   "metadata": {},
   "outputs": [],
   "source": [
    "# Q1 = raw_df.quantile(0.25)\n",
    "# Q3 = raw_df.quantile(0.75)\n",
    "# IQR = Q3 - Q1\n",
    "# print(IQR)\n",
    "\n",
    "# raw_df = raw_df[~((raw_df < (Q1 - 1.5 * IQR)) |(raw_df > (Q3 + 1.5 * IQR))).any(axis=1)]\n",
    "# print(raw_df.shape)\n",
    "\n",
    "# data = raw_df[\"age\"]\n",
    "# plot_scatter(data)\n",
    "\n",
    "# data = raw_df[\"height\"]\n",
    "# plot_scatter(data)\n",
    "\n",
    "# data = raw_df[\"weight\"]\n",
    "# plot_scatter(data)"
   ]
  },
  {
   "cell_type": "code",
   "execution_count": null,
   "metadata": {},
   "outputs": [],
   "source": []
  },
  {
   "cell_type": "code",
   "execution_count": null,
   "metadata": {},
   "outputs": [],
   "source": [
    "# def power_dist(feature):\n",
    "#     fig, axes = plt.subplots(1,2, figsize=(21,6))\n",
    "#     sns.distplot(feature, ax=axes[0])\n",
    "#     sm.qqplot(feature, stats.norm, fit=True, line='45', ax=axes[1]);\n",
    "#     k2_1, p1 = normaltest(feature)\n",
    "#     print(\"Normal test P1: \",p1)\n",
    "\n",
    "#     pt = PowerTransformer(method='box-cox')\n",
    "#     X_trans_pt = pt.fit_transform(feature)\n",
    "\n",
    "#     fig, axes = plt.subplots(1,2, figsize=(21,6))\n",
    "#     sns.distplot(X_trans_pt, ax=axes[0])\n",
    "#     axes[0].set_xlabel('Normalized')\n",
    "#     sm.qqplot(X_trans_pt, stats.norm, fit=True, line='45', ax=axes[1]);\n",
    "#     k2_2, p2 = normaltest(X_trans_pt)\n",
    "#     print(\"Normal test P2: \",p2)"
   ]
  },
  {
   "cell_type": "code",
   "execution_count": null,
   "metadata": {},
   "outputs": [],
   "source": [
    "# feature = raw_df[['ap_lo']]\n",
    "# power_dist(feature)"
   ]
  },
  {
   "cell_type": "code",
   "execution_count": null,
   "metadata": {},
   "outputs": [],
   "source": []
  },
  {
   "cell_type": "code",
   "execution_count": null,
   "metadata": {},
   "outputs": [],
   "source": []
  },
  {
   "cell_type": "code",
   "execution_count": null,
   "metadata": {},
   "outputs": [],
   "source": []
  },
  {
   "cell_type": "code",
   "execution_count": null,
   "metadata": {},
   "outputs": [],
   "source": []
  },
  {
   "cell_type": "code",
   "execution_count": 10,
   "metadata": {},
   "outputs": [],
   "source": [
    "def rank_based_normalization(x):  \n",
    "    newX = norm.ppf(rankdata(x)/(len(x) + 1))\n",
    "    return newX"
   ]
  },
  {
   "cell_type": "code",
   "execution_count": 11,
   "metadata": {},
   "outputs": [],
   "source": [
    "from sklearn import preprocessing\n",
    "\n",
    "def normalz(df):\n",
    "    mm_scaler = preprocessing.MinMaxScaler()\n",
    "    X_train_minmax = mm_scaler.fit_transform(df)\n",
    "    return X_train_minmax"
   ]
  },
  {
   "cell_type": "code",
   "execution_count": 12,
   "metadata": {},
   "outputs": [],
   "source": [
    "def feature_engg(feature):\n",
    "    fig, axes = plt.subplots(1,2, figsize=(21,6))\n",
    "    sns.distplot(feature, ax=axes[0])\n",
    "    sm.qqplot(feature, stats.norm, fit=True, line='45', ax=axes[1]);\n",
    "    k2_1, p1 = normaltest(feature)\n",
    "    print(\"Normal test P1: \",p1)\n",
    "\n",
    "    fig, axes = plt.subplots(1,2, figsize=(21,6))\n",
    "    sns.distplot(rank_based_normalization(feature), ax=axes[0])\n",
    "    axes[0].set_xlabel('Normalized')\n",
    "    sm.qqplot(rank_based_normalization(feature), stats.norm, fit=True, line='45', ax=axes[1]);\n",
    "    k2_2, p2 = normaltest(rank_based_normalization(feature))\n",
    "    print(\"Normal test P2: \",p2)\n",
    "    return rank_based_normalization(feature)"
   ]
  },
  {
   "cell_type": "code",
   "execution_count": null,
   "metadata": {},
   "outputs": [],
   "source": [
    "# def feature_engg_log(feature):\n",
    "#     fig, axes = plt.subplots(1,2, figsize=(21,6))\n",
    "#     sns.distplot(feature, ax=axes[0])\n",
    "#     sm.qqplot(feature, stats.norm, fit=True, line='45', ax=axes[1]);\n",
    "#     k2_1, p1 = normaltest(feature)\n",
    "#     print(\"Normal test P1: \",p1)\n",
    "\n",
    "#     fig, axes = plt.subplots(1,2, figsize=(21,6))\n",
    "#     sns.distplot(np.log1p(feature), ax=axes[0])\n",
    "#     axes[0].set_xlabel('Normalized')\n",
    "#     sm.qqplot(np.log1p(feature), stats.norm, fit=True, line='45', ax=axes[1]);\n",
    "#     k2_2, p2 = normaltest(np.log1p(feature))\n",
    "#     print(\"Normal test P2: \",p2)\n",
    "#     return np.log1p(feature)"
   ]
  },
  {
   "cell_type": "code",
   "execution_count": 38,
   "metadata": {},
   "outputs": [
    {
     "name": "stdout",
     "output_type": "stream",
     "text": [
      "Normal test P1:  0.0\n"
     ]
    },
    {
     "ename": "ValueError",
     "evalue": "Expected 2D array, got 1D array instead:\narray=[ 1.21601824 -1.95391548  0.98580185 ... -0.16325352  1.20061644\n  0.43417421].\nReshape your data either using array.reshape(-1, 1) if your data has a single feature or array.reshape(1, -1) if it contains a single sample.",
     "output_type": "error",
     "traceback": [
      "\u001b[1;31m---------------------------------------------------------------------------\u001b[0m",
      "\u001b[1;31mValueError\u001b[0m                                Traceback (most recent call last)",
      "\u001b[1;32m<ipython-input-38-c784996a4aee>\u001b[0m in \u001b[0;36m<module>\u001b[1;34m\u001b[0m\n\u001b[0;32m      8\u001b[0m \u001b[0mfeature\u001b[0m\u001b[1;33m\u001b[0m\u001b[1;33m\u001b[0m\u001b[0m\n\u001b[0;32m      9\u001b[0m \u001b[1;33m\u001b[0m\u001b[0m\n\u001b[1;32m---> 10\u001b[1;33m \u001b[0mfeature_engg\u001b[0m\u001b[1;33m(\u001b[0m\u001b[0mfeature\u001b[0m\u001b[1;33m)\u001b[0m\u001b[1;33m\u001b[0m\u001b[1;33m\u001b[0m\u001b[0m\n\u001b[0m",
      "\u001b[1;32m<ipython-input-12-97be4c3efbfc>\u001b[0m in \u001b[0;36mfeature_engg\u001b[1;34m(feature)\u001b[0m\n\u001b[0;32m      7\u001b[0m \u001b[1;33m\u001b[0m\u001b[0m\n\u001b[0;32m      8\u001b[0m     \u001b[0mfig\u001b[0m\u001b[1;33m,\u001b[0m \u001b[0maxes\u001b[0m \u001b[1;33m=\u001b[0m \u001b[0mplt\u001b[0m\u001b[1;33m.\u001b[0m\u001b[0msubplots\u001b[0m\u001b[1;33m(\u001b[0m\u001b[1;36m1\u001b[0m\u001b[1;33m,\u001b[0m\u001b[1;36m2\u001b[0m\u001b[1;33m,\u001b[0m \u001b[0mfigsize\u001b[0m\u001b[1;33m=\u001b[0m\u001b[1;33m(\u001b[0m\u001b[1;36m21\u001b[0m\u001b[1;33m,\u001b[0m\u001b[1;36m6\u001b[0m\u001b[1;33m)\u001b[0m\u001b[1;33m)\u001b[0m\u001b[1;33m\u001b[0m\u001b[1;33m\u001b[0m\u001b[0m\n\u001b[1;32m----> 9\u001b[1;33m     \u001b[0msns\u001b[0m\u001b[1;33m.\u001b[0m\u001b[0mdistplot\u001b[0m\u001b[1;33m(\u001b[0m\u001b[0mnormalz\u001b[0m\u001b[1;33m(\u001b[0m\u001b[0mfeature\u001b[0m\u001b[1;33m)\u001b[0m\u001b[1;33m,\u001b[0m \u001b[0max\u001b[0m\u001b[1;33m=\u001b[0m\u001b[0maxes\u001b[0m\u001b[1;33m[\u001b[0m\u001b[1;36m0\u001b[0m\u001b[1;33m]\u001b[0m\u001b[1;33m)\u001b[0m\u001b[1;33m\u001b[0m\u001b[1;33m\u001b[0m\u001b[0m\n\u001b[0m\u001b[0;32m     10\u001b[0m     \u001b[0maxes\u001b[0m\u001b[1;33m[\u001b[0m\u001b[1;36m0\u001b[0m\u001b[1;33m]\u001b[0m\u001b[1;33m.\u001b[0m\u001b[0mset_xlabel\u001b[0m\u001b[1;33m(\u001b[0m\u001b[1;34m'Normalized'\u001b[0m\u001b[1;33m)\u001b[0m\u001b[1;33m\u001b[0m\u001b[1;33m\u001b[0m\u001b[0m\n\u001b[0;32m     11\u001b[0m     \u001b[0msm\u001b[0m\u001b[1;33m.\u001b[0m\u001b[0mqqplot\u001b[0m\u001b[1;33m(\u001b[0m\u001b[0mnormalz\u001b[0m\u001b[1;33m(\u001b[0m\u001b[0mfeature\u001b[0m\u001b[1;33m)\u001b[0m\u001b[1;33m,\u001b[0m \u001b[0mstats\u001b[0m\u001b[1;33m.\u001b[0m\u001b[0mnorm\u001b[0m\u001b[1;33m,\u001b[0m \u001b[0mfit\u001b[0m\u001b[1;33m=\u001b[0m\u001b[1;32mTrue\u001b[0m\u001b[1;33m,\u001b[0m \u001b[0mline\u001b[0m\u001b[1;33m=\u001b[0m\u001b[1;34m'45'\u001b[0m\u001b[1;33m,\u001b[0m \u001b[0max\u001b[0m\u001b[1;33m=\u001b[0m\u001b[0maxes\u001b[0m\u001b[1;33m[\u001b[0m\u001b[1;36m1\u001b[0m\u001b[1;33m]\u001b[0m\u001b[1;33m)\u001b[0m\u001b[1;33m;\u001b[0m\u001b[1;33m\u001b[0m\u001b[1;33m\u001b[0m\u001b[0m\n",
      "\u001b[1;32m<ipython-input-11-91ce1e578375>\u001b[0m in \u001b[0;36mnormalz\u001b[1;34m(df)\u001b[0m\n\u001b[0;32m      3\u001b[0m \u001b[1;32mdef\u001b[0m \u001b[0mnormalz\u001b[0m\u001b[1;33m(\u001b[0m\u001b[0mdf\u001b[0m\u001b[1;33m)\u001b[0m\u001b[1;33m:\u001b[0m\u001b[1;33m\u001b[0m\u001b[1;33m\u001b[0m\u001b[0m\n\u001b[0;32m      4\u001b[0m     \u001b[0mmm_scaler\u001b[0m \u001b[1;33m=\u001b[0m \u001b[0mpreprocessing\u001b[0m\u001b[1;33m.\u001b[0m\u001b[0mMinMaxScaler\u001b[0m\u001b[1;33m(\u001b[0m\u001b[1;33m)\u001b[0m\u001b[1;33m\u001b[0m\u001b[1;33m\u001b[0m\u001b[0m\n\u001b[1;32m----> 5\u001b[1;33m     \u001b[0mX_train_minmax\u001b[0m \u001b[1;33m=\u001b[0m \u001b[0mmm_scaler\u001b[0m\u001b[1;33m.\u001b[0m\u001b[0mfit_transform\u001b[0m\u001b[1;33m(\u001b[0m\u001b[0mdf\u001b[0m\u001b[1;33m)\u001b[0m\u001b[1;33m\u001b[0m\u001b[1;33m\u001b[0m\u001b[0m\n\u001b[0m\u001b[0;32m      6\u001b[0m     \u001b[1;32mreturn\u001b[0m \u001b[0mX_train_minmax\u001b[0m\u001b[1;33m\u001b[0m\u001b[1;33m\u001b[0m\u001b[0m\n",
      "\u001b[1;32m~\\Anaconda3\\lib\\site-packages\\sklearn\\base.py\u001b[0m in \u001b[0;36mfit_transform\u001b[1;34m(self, X, y, **fit_params)\u001b[0m\n\u001b[0;32m    462\u001b[0m         \u001b[1;32mif\u001b[0m \u001b[0my\u001b[0m \u001b[1;32mis\u001b[0m \u001b[1;32mNone\u001b[0m\u001b[1;33m:\u001b[0m\u001b[1;33m\u001b[0m\u001b[1;33m\u001b[0m\u001b[0m\n\u001b[0;32m    463\u001b[0m             \u001b[1;31m# fit method of arity 1 (unsupervised transformation)\u001b[0m\u001b[1;33m\u001b[0m\u001b[1;33m\u001b[0m\u001b[1;33m\u001b[0m\u001b[0m\n\u001b[1;32m--> 464\u001b[1;33m             \u001b[1;32mreturn\u001b[0m \u001b[0mself\u001b[0m\u001b[1;33m.\u001b[0m\u001b[0mfit\u001b[0m\u001b[1;33m(\u001b[0m\u001b[0mX\u001b[0m\u001b[1;33m,\u001b[0m \u001b[1;33m**\u001b[0m\u001b[0mfit_params\u001b[0m\u001b[1;33m)\u001b[0m\u001b[1;33m.\u001b[0m\u001b[0mtransform\u001b[0m\u001b[1;33m(\u001b[0m\u001b[0mX\u001b[0m\u001b[1;33m)\u001b[0m\u001b[1;33m\u001b[0m\u001b[1;33m\u001b[0m\u001b[0m\n\u001b[0m\u001b[0;32m    465\u001b[0m         \u001b[1;32melse\u001b[0m\u001b[1;33m:\u001b[0m\u001b[1;33m\u001b[0m\u001b[1;33m\u001b[0m\u001b[0m\n\u001b[0;32m    466\u001b[0m             \u001b[1;31m# fit method of arity 2 (supervised transformation)\u001b[0m\u001b[1;33m\u001b[0m\u001b[1;33m\u001b[0m\u001b[1;33m\u001b[0m\u001b[0m\n",
      "\u001b[1;32m~\\Anaconda3\\lib\\site-packages\\sklearn\\preprocessing\\data.py\u001b[0m in \u001b[0;36mfit\u001b[1;34m(self, X, y)\u001b[0m\n\u001b[0;32m    332\u001b[0m         \u001b[1;31m# Reset internal state before fitting\u001b[0m\u001b[1;33m\u001b[0m\u001b[1;33m\u001b[0m\u001b[1;33m\u001b[0m\u001b[0m\n\u001b[0;32m    333\u001b[0m         \u001b[0mself\u001b[0m\u001b[1;33m.\u001b[0m\u001b[0m_reset\u001b[0m\u001b[1;33m(\u001b[0m\u001b[1;33m)\u001b[0m\u001b[1;33m\u001b[0m\u001b[1;33m\u001b[0m\u001b[0m\n\u001b[1;32m--> 334\u001b[1;33m         \u001b[1;32mreturn\u001b[0m \u001b[0mself\u001b[0m\u001b[1;33m.\u001b[0m\u001b[0mpartial_fit\u001b[0m\u001b[1;33m(\u001b[0m\u001b[0mX\u001b[0m\u001b[1;33m,\u001b[0m \u001b[0my\u001b[0m\u001b[1;33m)\u001b[0m\u001b[1;33m\u001b[0m\u001b[1;33m\u001b[0m\u001b[0m\n\u001b[0m\u001b[0;32m    335\u001b[0m \u001b[1;33m\u001b[0m\u001b[0m\n\u001b[0;32m    336\u001b[0m     \u001b[1;32mdef\u001b[0m \u001b[0mpartial_fit\u001b[0m\u001b[1;33m(\u001b[0m\u001b[0mself\u001b[0m\u001b[1;33m,\u001b[0m \u001b[0mX\u001b[0m\u001b[1;33m,\u001b[0m \u001b[0my\u001b[0m\u001b[1;33m=\u001b[0m\u001b[1;32mNone\u001b[0m\u001b[1;33m)\u001b[0m\u001b[1;33m:\u001b[0m\u001b[1;33m\u001b[0m\u001b[1;33m\u001b[0m\u001b[0m\n",
      "\u001b[1;32m~\\Anaconda3\\lib\\site-packages\\sklearn\\preprocessing\\data.py\u001b[0m in \u001b[0;36mpartial_fit\u001b[1;34m(self, X, y)\u001b[0m\n\u001b[0;32m    360\u001b[0m         X = check_array(X, copy=self.copy, warn_on_dtype=True,\n\u001b[0;32m    361\u001b[0m                         \u001b[0mestimator\u001b[0m\u001b[1;33m=\u001b[0m\u001b[0mself\u001b[0m\u001b[1;33m,\u001b[0m \u001b[0mdtype\u001b[0m\u001b[1;33m=\u001b[0m\u001b[0mFLOAT_DTYPES\u001b[0m\u001b[1;33m,\u001b[0m\u001b[1;33m\u001b[0m\u001b[1;33m\u001b[0m\u001b[0m\n\u001b[1;32m--> 362\u001b[1;33m                         force_all_finite=\"allow-nan\")\n\u001b[0m\u001b[0;32m    363\u001b[0m \u001b[1;33m\u001b[0m\u001b[0m\n\u001b[0;32m    364\u001b[0m         \u001b[0mdata_min\u001b[0m \u001b[1;33m=\u001b[0m \u001b[0mnp\u001b[0m\u001b[1;33m.\u001b[0m\u001b[0mnanmin\u001b[0m\u001b[1;33m(\u001b[0m\u001b[0mX\u001b[0m\u001b[1;33m,\u001b[0m \u001b[0maxis\u001b[0m\u001b[1;33m=\u001b[0m\u001b[1;36m0\u001b[0m\u001b[1;33m)\u001b[0m\u001b[1;33m\u001b[0m\u001b[1;33m\u001b[0m\u001b[0m\n",
      "\u001b[1;32m~\\Anaconda3\\lib\\site-packages\\sklearn\\utils\\validation.py\u001b[0m in \u001b[0;36mcheck_array\u001b[1;34m(array, accept_sparse, accept_large_sparse, dtype, order, copy, force_all_finite, ensure_2d, allow_nd, ensure_min_samples, ensure_min_features, warn_on_dtype, estimator)\u001b[0m\n\u001b[0;32m    550\u001b[0m                     \u001b[1;34m\"Reshape your data either using array.reshape(-1, 1) if \"\u001b[0m\u001b[1;33m\u001b[0m\u001b[1;33m\u001b[0m\u001b[0m\n\u001b[0;32m    551\u001b[0m                     \u001b[1;34m\"your data has a single feature or array.reshape(1, -1) \"\u001b[0m\u001b[1;33m\u001b[0m\u001b[1;33m\u001b[0m\u001b[0m\n\u001b[1;32m--> 552\u001b[1;33m                     \"if it contains a single sample.\".format(array))\n\u001b[0m\u001b[0;32m    553\u001b[0m \u001b[1;33m\u001b[0m\u001b[0m\n\u001b[0;32m    554\u001b[0m         \u001b[1;31m# in the future np.flexible dtypes will be handled like object dtypes\u001b[0m\u001b[1;33m\u001b[0m\u001b[1;33m\u001b[0m\u001b[1;33m\u001b[0m\u001b[0m\n",
      "\u001b[1;31mValueError\u001b[0m: Expected 2D array, got 1D array instead:\narray=[ 1.21601824 -1.95391548  0.98580185 ... -0.16325352  1.20061644\n  0.43417421].\nReshape your data either using array.reshape(-1, 1) if your data has a single feature or array.reshape(1, -1) if it contains a single sample."
     ]
    },
    {
     "data": {
      "image/png": "[encoded data removed]",
      "text/plain": [
       "<Figure size 1512x432 with 2 Axes>"
      ]
     },
     "metadata": {
      "needs_background": "light"
     },
     "output_type": "display_data"
    },
    {
     "data": {
      "image/png": "[encoded data removed]",
      "text/plain": [
       "<Figure size 1512x432 with 2 Axes>"
      ]
     },
     "metadata": {
      "needs_background": "light"
     },
     "output_type": "display_data"
    }
   ],
   "source": [
    "feature = raw_df['age']\n",
    "\n",
    "m = np.mean(feature)\n",
    "s = np.std(feature)\n",
    "\n",
    "feature = feature - m\n",
    "feature = feature / s\n",
    "feature\n",
    "\n",
    "feature_engg(feature)"
   ]
  },
  {
   "cell_type": "code",
   "execution_count": null,
   "metadata": {},
   "outputs": [],
   "source": []
  },
  {
   "cell_type": "code",
   "execution_count": 26,
   "metadata": {},
   "outputs": [],
   "source": [
    "feature = raw_df['age']\n",
    "raw_df['age'] = feature_engg(feature)"
   ]
  },
  {
   "cell_type": "code",
   "execution_count": null,
   "metadata": {},
   "outputs": [],
   "source": [
    "feature = raw_df[['height']]\n",
    "raw_df['height'] = feature_engg(feature)"
   ]
  },
  {
   "cell_type": "code",
   "execution_count": null,
   "metadata": {},
   "outputs": [],
   "source": [
    "feature = raw_df[['weight']]\n",
    "raw_df['weight'] = feature_engg(feature)"
   ]
  },
  {
   "cell_type": "code",
   "execution_count": null,
   "metadata": {},
   "outputs": [],
   "source": [
    "feature = raw_df[['ap_hi']]\n",
    "raw_df['ap_hi'] = feature_engg(feature)"
   ]
  },
  {
   "cell_type": "code",
   "execution_count": null,
   "metadata": {},
   "outputs": [],
   "source": [
    "feature = raw_df[['ap_lo']]\n",
    "raw_df['ap_lo'] = feature_engg(feature)"
   ]
  },
  {
   "cell_type": "code",
   "execution_count": null,
   "metadata": {
    "scrolled": true
   },
   "outputs": [],
   "source": []
  },
  {
   "cell_type": "code",
   "execution_count": null,
   "metadata": {},
   "outputs": [],
   "source": []
  },
  {
   "cell_type": "code",
   "execution_count": 13,
   "metadata": {},
   "outputs": [
    {
     "data": {
      "text/plain": [
       "<matplotlib.axes._subplots.AxesSubplot at 0x1fdbe7fe208>"
      ]
     },
     "execution_count": 13,
     "metadata": {},
     "output_type": "execute_result"
    },
    {
     "data": {
      "image/png": "[encoded data removed]",
      "text/plain": [
       "<Figure size 1512x432 with 3 Axes>"
      ]
     },
     "metadata": {
      "needs_background": "light"
     },
     "output_type": "display_data"
    },
    {
     "data": {
      "image/png": "[encoded data removed]",
      "text/plain": [
       "<Figure size 1512x432 with 2 Axes>"
      ]
     },
     "metadata": {
      "needs_background": "light"
     },
     "output_type": "display_data"
    }
   ],
   "source": [
    "fig, axes = plt.subplots(1, 3, figsize=(21,6))\n",
    "sns.violinplot(x=\"cardio\", y=\"age\", data=raw_df, ax=axes[0])\n",
    "sns.violinplot(x=\"cardio\", y=\"height\", data=raw_df, ax=axes[1])\n",
    "sns.violinplot(x=\"cardio\", y=\"weight\", data=raw_df, ax=axes[2])\n",
    "\n",
    "fig, axes = plt.subplots(1, 2, figsize=(21,6))\n",
    "sns.violinplot(x=\"cardio\", y=\"ap_hi\", data=raw_df, ax=axes[0])\n",
    "sns.violinplot(x=\"cardio\", y=\"ap_lo\", data=raw_df, ax=axes[1])"
   ]
  },
  {
   "cell_type": "code",
   "execution_count": null,
   "metadata": {},
   "outputs": [],
   "source": [
    "# feature = raw_df[\"ap_hi\"]\n",
    "\n",
    "# fig, axes = plt.subplots(1,3, figsize=(21,6))\n",
    "# sns.distplot(feature, ax=axes[0])\n",
    "# sns.distplot(np.log1p(feature), ax=axes[1])\n",
    "# axes[1].set_xlabel('log(1+feature)')\n",
    "# sm.qqplot(np.log1p(feature), stats.norm, fit=True, line='45', ax=axes[2]);"
   ]
  },
  {
   "cell_type": "code",
   "execution_count": null,
   "metadata": {},
   "outputs": [],
   "source": []
  },
  {
   "cell_type": "code",
   "execution_count": 14,
   "metadata": {},
   "outputs": [
    {
     "data": {
      "text/html": [
       "<div>\n",
       "<style scoped>\n",
       "    .dataframe tbody tr th:only-of-type {\n",
       "        vertical-align: middle;\n",
       "    }\n",
       "\n",
       "    .dataframe tbody tr th {\n",
       "        vertical-align: top;\n",
       "    }\n",
       "\n",
       "    .dataframe thead th {\n",
       "        text-align: right;\n",
       "    }\n",
       "</style>\n",
       "<table border=\"1\" class=\"dataframe\">\n",
       "  <thead>\n",
       "    <tr style=\"text-align: right;\">\n",
       "      <th></th>\n",
       "      <th>id</th>\n",
       "      <th>age</th>\n",
       "      <th>gender</th>\n",
       "      <th>height</th>\n",
       "      <th>weight</th>\n",
       "      <th>ap_hi</th>\n",
       "      <th>ap_lo</th>\n",
       "      <th>cholesterol</th>\n",
       "      <th>gluc</th>\n",
       "      <th>smoke</th>\n",
       "      <th>alco</th>\n",
       "      <th>active</th>\n",
       "      <th>cardio</th>\n",
       "    </tr>\n",
       "  </thead>\n",
       "  <tbody>\n",
       "    <tr>\n",
       "      <th>0</th>\n",
       "      <td>988</td>\n",
       "      <td>22469</td>\n",
       "      <td>1</td>\n",
       "      <td>155</td>\n",
       "      <td>69.0</td>\n",
       "      <td>130</td>\n",
       "      <td>80</td>\n",
       "      <td>2</td>\n",
       "      <td>2</td>\n",
       "      <td>0</td>\n",
       "      <td>0</td>\n",
       "      <td>1</td>\n",
       "      <td>0</td>\n",
       "    </tr>\n",
       "    <tr>\n",
       "      <th>1</th>\n",
       "      <td>989</td>\n",
       "      <td>14648</td>\n",
       "      <td>1</td>\n",
       "      <td>163</td>\n",
       "      <td>71.0</td>\n",
       "      <td>110</td>\n",
       "      <td>70</td>\n",
       "      <td>1</td>\n",
       "      <td>1</td>\n",
       "      <td>0</td>\n",
       "      <td>0</td>\n",
       "      <td>1</td>\n",
       "      <td>1</td>\n",
       "    </tr>\n",
       "    <tr>\n",
       "      <th>2</th>\n",
       "      <td>990</td>\n",
       "      <td>21901</td>\n",
       "      <td>1</td>\n",
       "      <td>165</td>\n",
       "      <td>70.0</td>\n",
       "      <td>120</td>\n",
       "      <td>80</td>\n",
       "      <td>1</td>\n",
       "      <td>1</td>\n",
       "      <td>0</td>\n",
       "      <td>0</td>\n",
       "      <td>1</td>\n",
       "      <td>0</td>\n",
       "    </tr>\n",
       "    <tr>\n",
       "      <th>3</th>\n",
       "      <td>991</td>\n",
       "      <td>14549</td>\n",
       "      <td>2</td>\n",
       "      <td>165</td>\n",
       "      <td>85.0</td>\n",
       "      <td>120</td>\n",
       "      <td>80</td>\n",
       "      <td>1</td>\n",
       "      <td>1</td>\n",
       "      <td>1</td>\n",
       "      <td>1</td>\n",
       "      <td>1</td>\n",
       "      <td>0</td>\n",
       "    </tr>\n",
       "    <tr>\n",
       "      <th>4</th>\n",
       "      <td>992</td>\n",
       "      <td>23393</td>\n",
       "      <td>1</td>\n",
       "      <td>155</td>\n",
       "      <td>62.0</td>\n",
       "      <td>120</td>\n",
       "      <td>80</td>\n",
       "      <td>1</td>\n",
       "      <td>1</td>\n",
       "      <td>0</td>\n",
       "      <td>0</td>\n",
       "      <td>1</td>\n",
       "      <td>0</td>\n",
       "    </tr>\n",
       "  </tbody>\n",
       "</table>\n",
       "</div>"
      ],
      "text/plain": [
       "    id    age  gender  height  weight  ap_hi  ap_lo  cholesterol  gluc  smoke  \\\n",
       "0  988  22469       1     155    69.0    130     80            2     2      0   \n",
       "1  989  14648       1     163    71.0    110     70            1     1      0   \n",
       "2  990  21901       1     165    70.0    120     80            1     1      0   \n",
       "3  991  14549       2     165    85.0    120     80            1     1      1   \n",
       "4  992  23393       1     155    62.0    120     80            1     1      0   \n",
       "\n",
       "   alco  active  cardio  \n",
       "0     0       1       0  \n",
       "1     0       1       1  \n",
       "2     0       1       0  \n",
       "3     1       1       0  \n",
       "4     0       1       0  "
      ]
     },
     "execution_count": 14,
     "metadata": {},
     "output_type": "execute_result"
    }
   ],
   "source": [
    "raw_df.head()"
   ]
  },
  {
   "cell_type": "code",
   "execution_count": 15,
   "metadata": {},
   "outputs": [
    {
     "data": {
      "text/html": [
       "<div>\n",
       "<style scoped>\n",
       "    .dataframe tbody tr th:only-of-type {\n",
       "        vertical-align: middle;\n",
       "    }\n",
       "\n",
       "    .dataframe tbody tr th {\n",
       "        vertical-align: top;\n",
       "    }\n",
       "\n",
       "    .dataframe thead th {\n",
       "        text-align: right;\n",
       "    }\n",
       "</style>\n",
       "<table border=\"1\" class=\"dataframe\">\n",
       "  <thead>\n",
       "    <tr style=\"text-align: right;\">\n",
       "      <th></th>\n",
       "      <th>cholesterol_1</th>\n",
       "      <th>cholesterol_2</th>\n",
       "      <th>cholesterol_3</th>\n",
       "    </tr>\n",
       "  </thead>\n",
       "  <tbody>\n",
       "    <tr>\n",
       "      <th>0</th>\n",
       "      <td>0</td>\n",
       "      <td>1</td>\n",
       "      <td>0</td>\n",
       "    </tr>\n",
       "    <tr>\n",
       "      <th>1</th>\n",
       "      <td>1</td>\n",
       "      <td>0</td>\n",
       "      <td>0</td>\n",
       "    </tr>\n",
       "    <tr>\n",
       "      <th>2</th>\n",
       "      <td>1</td>\n",
       "      <td>0</td>\n",
       "      <td>0</td>\n",
       "    </tr>\n",
       "    <tr>\n",
       "      <th>3</th>\n",
       "      <td>1</td>\n",
       "      <td>0</td>\n",
       "      <td>0</td>\n",
       "    </tr>\n",
       "    <tr>\n",
       "      <th>4</th>\n",
       "      <td>1</td>\n",
       "      <td>0</td>\n",
       "      <td>0</td>\n",
       "    </tr>\n",
       "  </tbody>\n",
       "</table>\n",
       "</div>"
      ],
      "text/plain": [
       "   cholesterol_1  cholesterol_2  cholesterol_3\n",
       "0              0              1              0\n",
       "1              1              0              0\n",
       "2              1              0              0\n",
       "3              1              0              0\n",
       "4              1              0              0"
      ]
     },
     "execution_count": 15,
     "metadata": {},
     "output_type": "execute_result"
    }
   ],
   "source": [
    "cholesterol_encoding = pd.get_dummies(raw_df['cholesterol'], prefix=\"cholesterol\")\n",
    "cholesterol_encoding.head()"
   ]
  },
  {
   "cell_type": "code",
   "execution_count": 16,
   "metadata": {},
   "outputs": [
    {
     "data": {
      "text/html": [
       "<div>\n",
       "<style scoped>\n",
       "    .dataframe tbody tr th:only-of-type {\n",
       "        vertical-align: middle;\n",
       "    }\n",
       "\n",
       "    .dataframe tbody tr th {\n",
       "        vertical-align: top;\n",
       "    }\n",
       "\n",
       "    .dataframe thead th {\n",
       "        text-align: right;\n",
       "    }\n",
       "</style>\n",
       "<table border=\"1\" class=\"dataframe\">\n",
       "  <thead>\n",
       "    <tr style=\"text-align: right;\">\n",
       "      <th></th>\n",
       "      <th>gluc_1</th>\n",
       "      <th>gluc_2</th>\n",
       "      <th>gluc_3</th>\n",
       "    </tr>\n",
       "  </thead>\n",
       "  <tbody>\n",
       "    <tr>\n",
       "      <th>0</th>\n",
       "      <td>0</td>\n",
       "      <td>1</td>\n",
       "      <td>0</td>\n",
       "    </tr>\n",
       "    <tr>\n",
       "      <th>1</th>\n",
       "      <td>1</td>\n",
       "      <td>0</td>\n",
       "      <td>0</td>\n",
       "    </tr>\n",
       "    <tr>\n",
       "      <th>2</th>\n",
       "      <td>1</td>\n",
       "      <td>0</td>\n",
       "      <td>0</td>\n",
       "    </tr>\n",
       "    <tr>\n",
       "      <th>3</th>\n",
       "      <td>1</td>\n",
       "      <td>0</td>\n",
       "      <td>0</td>\n",
       "    </tr>\n",
       "    <tr>\n",
       "      <th>4</th>\n",
       "      <td>1</td>\n",
       "      <td>0</td>\n",
       "      <td>0</td>\n",
       "    </tr>\n",
       "  </tbody>\n",
       "</table>\n",
       "</div>"
      ],
      "text/plain": [
       "   gluc_1  gluc_2  gluc_3\n",
       "0       0       1       0\n",
       "1       1       0       0\n",
       "2       1       0       0\n",
       "3       1       0       0\n",
       "4       1       0       0"
      ]
     },
     "execution_count": 16,
     "metadata": {},
     "output_type": "execute_result"
    }
   ],
   "source": [
    "gluc_encoding = pd.get_dummies(raw_df['gluc'], prefix=\"gluc\")\n",
    "gluc_encoding.head()"
   ]
  },
  {
   "cell_type": "code",
   "execution_count": 17,
   "metadata": {},
   "outputs": [
    {
     "data": {
      "text/html": [
       "<div>\n",
       "<style scoped>\n",
       "    .dataframe tbody tr th:only-of-type {\n",
       "        vertical-align: middle;\n",
       "    }\n",
       "\n",
       "    .dataframe tbody tr th {\n",
       "        vertical-align: top;\n",
       "    }\n",
       "\n",
       "    .dataframe thead th {\n",
       "        text-align: right;\n",
       "    }\n",
       "</style>\n",
       "<table border=\"1\" class=\"dataframe\">\n",
       "  <thead>\n",
       "    <tr style=\"text-align: right;\">\n",
       "      <th></th>\n",
       "      <th>gender_1</th>\n",
       "      <th>gender_2</th>\n",
       "    </tr>\n",
       "  </thead>\n",
       "  <tbody>\n",
       "    <tr>\n",
       "      <th>0</th>\n",
       "      <td>1</td>\n",
       "      <td>0</td>\n",
       "    </tr>\n",
       "    <tr>\n",
       "      <th>1</th>\n",
       "      <td>1</td>\n",
       "      <td>0</td>\n",
       "    </tr>\n",
       "    <tr>\n",
       "      <th>2</th>\n",
       "      <td>1</td>\n",
       "      <td>0</td>\n",
       "    </tr>\n",
       "    <tr>\n",
       "      <th>3</th>\n",
       "      <td>0</td>\n",
       "      <td>1</td>\n",
       "    </tr>\n",
       "    <tr>\n",
       "      <th>4</th>\n",
       "      <td>1</td>\n",
       "      <td>0</td>\n",
       "    </tr>\n",
       "  </tbody>\n",
       "</table>\n",
       "</div>"
      ],
      "text/plain": [
       "   gender_1  gender_2\n",
       "0         1         0\n",
       "1         1         0\n",
       "2         1         0\n",
       "3         0         1\n",
       "4         1         0"
      ]
     },
     "execution_count": 17,
     "metadata": {},
     "output_type": "execute_result"
    }
   ],
   "source": [
    "gender_encoding = pd.get_dummies(raw_df['gender'], prefix=\"gender\")\n",
    "gender_encoding.head()"
   ]
  },
  {
   "cell_type": "code",
   "execution_count": 18,
   "metadata": {},
   "outputs": [],
   "source": [
    "raw_df = pd.concat([raw_df, cholesterol_encoding], axis=1)\n",
    "raw_df = raw_df.drop([\"cholesterol\"], axis=1)\n",
    "\n",
    "raw_df = pd.concat([raw_df, gluc_encoding], axis=1)\n",
    "raw_df = raw_df.drop([\"gluc\"], axis=1)\n",
    "\n",
    "raw_df = pd.concat([raw_df, gender_encoding], axis=1)\n",
    "raw_df = raw_df.drop([\"gender\"], axis=1)"
   ]
  },
  {
   "cell_type": "code",
   "execution_count": 19,
   "metadata": {},
   "outputs": [
    {
     "data": {
      "text/html": [
       "<div>\n",
       "<style scoped>\n",
       "    .dataframe tbody tr th:only-of-type {\n",
       "        vertical-align: middle;\n",
       "    }\n",
       "\n",
       "    .dataframe tbody tr th {\n",
       "        vertical-align: top;\n",
       "    }\n",
       "\n",
       "    .dataframe thead th {\n",
       "        text-align: right;\n",
       "    }\n",
       "</style>\n",
       "<table border=\"1\" class=\"dataframe\">\n",
       "  <thead>\n",
       "    <tr style=\"text-align: right;\">\n",
       "      <th></th>\n",
       "      <th>id</th>\n",
       "      <th>age</th>\n",
       "      <th>height</th>\n",
       "      <th>weight</th>\n",
       "      <th>ap_hi</th>\n",
       "      <th>ap_lo</th>\n",
       "      <th>smoke</th>\n",
       "      <th>alco</th>\n",
       "      <th>active</th>\n",
       "      <th>cardio</th>\n",
       "      <th>cholesterol_1</th>\n",
       "      <th>cholesterol_2</th>\n",
       "      <th>cholesterol_3</th>\n",
       "      <th>gluc_1</th>\n",
       "      <th>gluc_2</th>\n",
       "      <th>gluc_3</th>\n",
       "      <th>gender_1</th>\n",
       "      <th>gender_2</th>\n",
       "    </tr>\n",
       "  </thead>\n",
       "  <tbody>\n",
       "    <tr>\n",
       "      <th>0</th>\n",
       "      <td>988</td>\n",
       "      <td>22469</td>\n",
       "      <td>155</td>\n",
       "      <td>69.0</td>\n",
       "      <td>130</td>\n",
       "      <td>80</td>\n",
       "      <td>0</td>\n",
       "      <td>0</td>\n",
       "      <td>1</td>\n",
       "      <td>0</td>\n",
       "      <td>0</td>\n",
       "      <td>1</td>\n",
       "      <td>0</td>\n",
       "      <td>0</td>\n",
       "      <td>1</td>\n",
       "      <td>0</td>\n",
       "      <td>1</td>\n",
       "      <td>0</td>\n",
       "    </tr>\n",
       "    <tr>\n",
       "      <th>1</th>\n",
       "      <td>989</td>\n",
       "      <td>14648</td>\n",
       "      <td>163</td>\n",
       "      <td>71.0</td>\n",
       "      <td>110</td>\n",
       "      <td>70</td>\n",
       "      <td>0</td>\n",
       "      <td>0</td>\n",
       "      <td>1</td>\n",
       "      <td>1</td>\n",
       "      <td>1</td>\n",
       "      <td>0</td>\n",
       "      <td>0</td>\n",
       "      <td>1</td>\n",
       "      <td>0</td>\n",
       "      <td>0</td>\n",
       "      <td>1</td>\n",
       "      <td>0</td>\n",
       "    </tr>\n",
       "    <tr>\n",
       "      <th>2</th>\n",
       "      <td>990</td>\n",
       "      <td>21901</td>\n",
       "      <td>165</td>\n",
       "      <td>70.0</td>\n",
       "      <td>120</td>\n",
       "      <td>80</td>\n",
       "      <td>0</td>\n",
       "      <td>0</td>\n",
       "      <td>1</td>\n",
       "      <td>0</td>\n",
       "      <td>1</td>\n",
       "      <td>0</td>\n",
       "      <td>0</td>\n",
       "      <td>1</td>\n",
       "      <td>0</td>\n",
       "      <td>0</td>\n",
       "      <td>1</td>\n",
       "      <td>0</td>\n",
       "    </tr>\n",
       "    <tr>\n",
       "      <th>3</th>\n",
       "      <td>991</td>\n",
       "      <td>14549</td>\n",
       "      <td>165</td>\n",
       "      <td>85.0</td>\n",
       "      <td>120</td>\n",
       "      <td>80</td>\n",
       "      <td>1</td>\n",
       "      <td>1</td>\n",
       "      <td>1</td>\n",
       "      <td>0</td>\n",
       "      <td>1</td>\n",
       "      <td>0</td>\n",
       "      <td>0</td>\n",
       "      <td>1</td>\n",
       "      <td>0</td>\n",
       "      <td>0</td>\n",
       "      <td>0</td>\n",
       "      <td>1</td>\n",
       "    </tr>\n",
       "    <tr>\n",
       "      <th>4</th>\n",
       "      <td>992</td>\n",
       "      <td>23393</td>\n",
       "      <td>155</td>\n",
       "      <td>62.0</td>\n",
       "      <td>120</td>\n",
       "      <td>80</td>\n",
       "      <td>0</td>\n",
       "      <td>0</td>\n",
       "      <td>1</td>\n",
       "      <td>0</td>\n",
       "      <td>1</td>\n",
       "      <td>0</td>\n",
       "      <td>0</td>\n",
       "      <td>1</td>\n",
       "      <td>0</td>\n",
       "      <td>0</td>\n",
       "      <td>1</td>\n",
       "      <td>0</td>\n",
       "    </tr>\n",
       "  </tbody>\n",
       "</table>\n",
       "</div>"
      ],
      "text/plain": [
       "    id    age  height  weight  ap_hi  ap_lo  smoke  alco  active  cardio  \\\n",
       "0  988  22469     155    69.0    130     80      0     0       1       0   \n",
       "1  989  14648     163    71.0    110     70      0     0       1       1   \n",
       "2  990  21901     165    70.0    120     80      0     0       1       0   \n",
       "3  991  14549     165    85.0    120     80      1     1       1       0   \n",
       "4  992  23393     155    62.0    120     80      0     0       1       0   \n",
       "\n",
       "   cholesterol_1  cholesterol_2  cholesterol_3  gluc_1  gluc_2  gluc_3  \\\n",
       "0              0              1              0       0       1       0   \n",
       "1              1              0              0       1       0       0   \n",
       "2              1              0              0       1       0       0   \n",
       "3              1              0              0       1       0       0   \n",
       "4              1              0              0       1       0       0   \n",
       "\n",
       "   gender_1  gender_2  \n",
       "0         1         0  \n",
       "1         1         0  \n",
       "2         1         0  \n",
       "3         0         1  \n",
       "4         1         0  "
      ]
     },
     "execution_count": 19,
     "metadata": {},
     "output_type": "execute_result"
    }
   ],
   "source": [
    "raw_df.head()"
   ]
  },
  {
   "cell_type": "code",
   "execution_count": 20,
   "metadata": {},
   "outputs": [],
   "source": [
    "raw_df.to_csv('clean_df.csv', index = False)"
   ]
  },
  {
   "cell_type": "code",
   "execution_count": null,
   "metadata": {},
   "outputs": [],
   "source": []
  },
  {
   "cell_type": "markdown",
   "metadata": {},
   "source": [
    "### Feature Engineering"
   ]
  },
  {
   "cell_type": "markdown",
   "metadata": {},
   "source": [
    "##### converting log normal to normal\n",
    "\n",
    "<hr>\n",
    "<hr>"
   ]
  },
  {
   "cell_type": "code",
   "execution_count": 21,
   "metadata": {},
   "outputs": [
    {
     "data": {
      "text/html": [
       "<div>\n",
       "<style scoped>\n",
       "    .dataframe tbody tr th:only-of-type {\n",
       "        vertical-align: middle;\n",
       "    }\n",
       "\n",
       "    .dataframe tbody tr th {\n",
       "        vertical-align: top;\n",
       "    }\n",
       "\n",
       "    .dataframe thead th {\n",
       "        text-align: right;\n",
       "    }\n",
       "</style>\n",
       "<table border=\"1\" class=\"dataframe\">\n",
       "  <thead>\n",
       "    <tr style=\"text-align: right;\">\n",
       "      <th></th>\n",
       "      <th>id</th>\n",
       "      <th>age</th>\n",
       "      <th>height</th>\n",
       "      <th>weight</th>\n",
       "      <th>ap_hi</th>\n",
       "      <th>ap_lo</th>\n",
       "      <th>smoke</th>\n",
       "      <th>alco</th>\n",
       "      <th>active</th>\n",
       "      <th>cardio</th>\n",
       "      <th>cholesterol_1</th>\n",
       "      <th>cholesterol_2</th>\n",
       "      <th>cholesterol_3</th>\n",
       "      <th>gluc_1</th>\n",
       "      <th>gluc_2</th>\n",
       "      <th>gluc_3</th>\n",
       "      <th>gender_1</th>\n",
       "      <th>gender_2</th>\n",
       "    </tr>\n",
       "  </thead>\n",
       "  <tbody>\n",
       "    <tr>\n",
       "      <th>0</th>\n",
       "      <td>988</td>\n",
       "      <td>22469</td>\n",
       "      <td>155</td>\n",
       "      <td>69.0</td>\n",
       "      <td>130</td>\n",
       "      <td>80</td>\n",
       "      <td>0</td>\n",
       "      <td>0</td>\n",
       "      <td>1</td>\n",
       "      <td>0</td>\n",
       "      <td>0</td>\n",
       "      <td>1</td>\n",
       "      <td>0</td>\n",
       "      <td>0</td>\n",
       "      <td>1</td>\n",
       "      <td>0</td>\n",
       "      <td>1</td>\n",
       "      <td>0</td>\n",
       "    </tr>\n",
       "    <tr>\n",
       "      <th>1</th>\n",
       "      <td>989</td>\n",
       "      <td>14648</td>\n",
       "      <td>163</td>\n",
       "      <td>71.0</td>\n",
       "      <td>110</td>\n",
       "      <td>70</td>\n",
       "      <td>0</td>\n",
       "      <td>0</td>\n",
       "      <td>1</td>\n",
       "      <td>1</td>\n",
       "      <td>1</td>\n",
       "      <td>0</td>\n",
       "      <td>0</td>\n",
       "      <td>1</td>\n",
       "      <td>0</td>\n",
       "      <td>0</td>\n",
       "      <td>1</td>\n",
       "      <td>0</td>\n",
       "    </tr>\n",
       "    <tr>\n",
       "      <th>2</th>\n",
       "      <td>990</td>\n",
       "      <td>21901</td>\n",
       "      <td>165</td>\n",
       "      <td>70.0</td>\n",
       "      <td>120</td>\n",
       "      <td>80</td>\n",
       "      <td>0</td>\n",
       "      <td>0</td>\n",
       "      <td>1</td>\n",
       "      <td>0</td>\n",
       "      <td>1</td>\n",
       "      <td>0</td>\n",
       "      <td>0</td>\n",
       "      <td>1</td>\n",
       "      <td>0</td>\n",
       "      <td>0</td>\n",
       "      <td>1</td>\n",
       "      <td>0</td>\n",
       "    </tr>\n",
       "    <tr>\n",
       "      <th>3</th>\n",
       "      <td>991</td>\n",
       "      <td>14549</td>\n",
       "      <td>165</td>\n",
       "      <td>85.0</td>\n",
       "      <td>120</td>\n",
       "      <td>80</td>\n",
       "      <td>1</td>\n",
       "      <td>1</td>\n",
       "      <td>1</td>\n",
       "      <td>0</td>\n",
       "      <td>1</td>\n",
       "      <td>0</td>\n",
       "      <td>0</td>\n",
       "      <td>1</td>\n",
       "      <td>0</td>\n",
       "      <td>0</td>\n",
       "      <td>0</td>\n",
       "      <td>1</td>\n",
       "    </tr>\n",
       "    <tr>\n",
       "      <th>4</th>\n",
       "      <td>992</td>\n",
       "      <td>23393</td>\n",
       "      <td>155</td>\n",
       "      <td>62.0</td>\n",
       "      <td>120</td>\n",
       "      <td>80</td>\n",
       "      <td>0</td>\n",
       "      <td>0</td>\n",
       "      <td>1</td>\n",
       "      <td>0</td>\n",
       "      <td>1</td>\n",
       "      <td>0</td>\n",
       "      <td>0</td>\n",
       "      <td>1</td>\n",
       "      <td>0</td>\n",
       "      <td>0</td>\n",
       "      <td>1</td>\n",
       "      <td>0</td>\n",
       "    </tr>\n",
       "  </tbody>\n",
       "</table>\n",
       "</div>"
      ],
      "text/plain": [
       "    id    age  height  weight  ap_hi  ap_lo  smoke  alco  active  cardio  \\\n",
       "0  988  22469     155    69.0    130     80      0     0       1       0   \n",
       "1  989  14648     163    71.0    110     70      0     0       1       1   \n",
       "2  990  21901     165    70.0    120     80      0     0       1       0   \n",
       "3  991  14549     165    85.0    120     80      1     1       1       0   \n",
       "4  992  23393     155    62.0    120     80      0     0       1       0   \n",
       "\n",
       "   cholesterol_1  cholesterol_2  cholesterol_3  gluc_1  gluc_2  gluc_3  \\\n",
       "0              0              1              0       0       1       0   \n",
       "1              1              0              0       1       0       0   \n",
       "2              1              0              0       1       0       0   \n",
       "3              1              0              0       1       0       0   \n",
       "4              1              0              0       1       0       0   \n",
       "\n",
       "   gender_1  gender_2  \n",
       "0         1         0  \n",
       "1         1         0  \n",
       "2         1         0  \n",
       "3         0         1  \n",
       "4         1         0  "
      ]
     },
     "execution_count": 21,
     "metadata": {},
     "output_type": "execute_result"
    }
   ],
   "source": [
    "clean_df = pd.read_csv(\"clean_df.csv\")\n",
    "clean_df.head()"
   ]
  },
  {
   "cell_type": "code",
   "execution_count": 22,
   "metadata": {},
   "outputs": [],
   "source": [
    "df_X = clean_df.drop([\"id\", \"cardio\"], axis=1)\n",
    "df_y = clean_df.loc[:, \"cardio\"]"
   ]
  },
  {
   "cell_type": "code",
   "execution_count": 23,
   "metadata": {},
   "outputs": [],
   "source": [
    "X_train, X_test, y_train, y_test = train_test_split(df_X, df_y, test_size=0.2, random_state=42)"
   ]
  },
  {
   "cell_type": "code",
   "execution_count": 24,
   "metadata": {},
   "outputs": [
    {
     "name": "stdout",
     "output_type": "stream",
     "text": [
      "[[-0.90380193 -1.38391319  2.83789951 ...  3.48522407  0.7330432\n",
      "  -0.7330432 ]\n",
      " [ 0.32257868  0.199379    2.00325946 ...  3.48522407  0.7330432\n",
      "  -0.7330432 ]\n",
      " [-0.2332833  -0.28778783  1.1686194  ... -0.2869256   0.7330432\n",
      "  -0.7330432 ]\n",
      " ...\n",
      " [ 1.53923574 -0.77495465 -0.43110737 ... -0.2869256   0.7330432\n",
      "  -0.7330432 ]\n",
      " [-0.86855412  0.07758729 -0.2920007  ... -0.2869256  -1.36417608\n",
      "   1.36417608]\n",
      " [-1.05937845  0.44296241 -0.36155403 ... -0.2869256   0.7330432\n",
      "  -0.7330432 ]] [[ 0.38416105  1.78267118  0.47308602 ... -0.2869256  -1.36417608\n",
      "   1.36417608]\n",
      " [-0.27298772  1.05192094  0.82085271 ... -0.2869256  -1.36417608\n",
      "   1.36417608]\n",
      " [-0.70527979 -0.89674636 -0.01378734 ... -0.2869256   0.7330432\n",
      "  -0.7330432 ]\n",
      " ...\n",
      " [ 0.37565296  1.41729606  1.23817274 ... -0.2869256  -1.36417608\n",
      "   1.36417608]\n",
      " [ 0.9063958  -1.01853807 -0.91798074 ... -0.2869256   0.7330432\n",
      "  -0.7330432 ]\n",
      " [ 1.62229092  0.32117071  2.14236613 ... -0.2869256  -1.36417608\n",
      "   1.36417608]]\n"
     ]
    }
   ],
   "source": [
    "scaler = StandardScaler()\n",
    "X_train = scaler.fit_transform(X_train)\n",
    "X_test = scaler.transform(X_test)\n",
    "print(X_train, X_test)"
   ]
  },
  {
   "cell_type": "code",
   "execution_count": 25,
   "metadata": {},
   "outputs": [
    {
     "name": "stdout",
     "output_type": "stream",
     "text": [
      "WARNING:tensorflow:From C:\\Users\\paras\\Anaconda3\\lib\\site-packages\\tensorflow_core\\python\\keras\\initializers.py:119: calling RandomUniform.__init__ (from tensorflow.python.ops.init_ops) with dtype is deprecated and will be removed in a future version.\n",
      "Instructions for updating:\n",
      "Call initializer instance with the dtype argument instead of passing it to the constructor\n",
      "WARNING:tensorflow:From C:\\Users\\paras\\Anaconda3\\lib\\site-packages\\tensorflow_core\\python\\ops\\resource_variable_ops.py:1630: calling BaseResourceVariable.__init__ (from tensorflow.python.ops.resource_variable_ops) with constraint is deprecated and will be removed in a future version.\n",
      "Instructions for updating:\n",
      "If using Keras pass *_constraint arguments to layers.\n",
      "WARNING:tensorflow:From C:\\Users\\paras\\Anaconda3\\lib\\site-packages\\tensorflow_core\\python\\ops\\nn_impl.py:183: where (from tensorflow.python.ops.array_ops) is deprecated and will be removed in a future version.\n",
      "Instructions for updating:\n",
      "Use tf.where in 2.0, which has the same broadcast rule as np.where\n",
      "Train on 69301 samples\n",
      "Epoch 1/10\n",
      "69301/69301 [==============================] - ETA: 13:00 - loss: 0.7269 - acc: 0.10 - ETA: 23s - loss: 0.6932 - acc: 0.5063 - ETA: 14s - loss: 0.6930 - acc: 0.50 - ETA: 12s - loss: 0.6926 - acc: 0.50 - ETA: 10s - loss: 0.6924 - acc: 0.51 - ETA: 9s - loss: 0.6930 - acc: 0.5089 - ETA: 9s - loss: 0.6929 - acc: 0.512 - ETA: 8s - loss: 0.6929 - acc: 0.512 - ETA: 8s - loss: 0.6930 - acc: 0.510 - ETA: 8s - loss: 0.6930 - acc: 0.508 - ETA: 8s - loss: 0.6930 - acc: 0.509 - ETA: 8s - loss: 0.6930 - acc: 0.509 - ETA: 8s - loss: 0.6930 - acc: 0.508 - ETA: 8s - loss: 0.6931 - acc: 0.508 - ETA: 7s - loss: 0.6930 - acc: 0.509 - ETA: 7s - loss: 0.6931 - acc: 0.507 - ETA: 7s - loss: 0.6931 - acc: 0.506 - ETA: 7s - loss: 0.6931 - acc: 0.505 - ETA: 7s - loss: 0.6932 - acc: 0.506 - ETA: 7s - loss: 0.6932 - acc: 0.505 - ETA: 7s - loss: 0.6931 - acc: 0.507 - ETA: 6s - loss: 0.6931 - acc: 0.506 - ETA: 6s - loss: 0.6930 - acc: 0.506 - ETA: 6s - loss: 0.6932 - acc: 0.507 - ETA: 6s - loss: 0.6932 - acc: 0.505 - ETA: 6s - loss: 0.6932 - acc: 0.505 - ETA: 6s - loss: 0.6932 - acc: 0.506 - ETA: 6s - loss: 0.6931 - acc: 0.507 - ETA: 6s - loss: 0.6932 - acc: 0.506 - ETA: 6s - loss: 0.6932 - acc: 0.506 - ETA: 6s - loss: 0.6932 - acc: 0.506 - ETA: 5s - loss: 0.6932 - acc: 0.506 - ETA: 5s - loss: 0.6931 - acc: 0.506 - ETA: 5s - loss: 0.6931 - acc: 0.506 - ETA: 5s - loss: 0.6931 - acc: 0.505 - ETA: 5s - loss: 0.6931 - acc: 0.506 - ETA: 5s - loss: 0.6931 - acc: 0.506 - ETA: 5s - loss: 0.6931 - acc: 0.506 - ETA: 5s - loss: 0.6931 - acc: 0.507 - ETA: 5s - loss: 0.6931 - acc: 0.507 - ETA: 5s - loss: 0.6931 - acc: 0.507 - ETA: 5s - loss: 0.6931 - acc: 0.507 - ETA: 5s - loss: 0.6931 - acc: 0.507 - ETA: 5s - loss: 0.6931 - acc: 0.507 - ETA: 5s - loss: 0.6931 - acc: 0.507 - ETA: 4s - loss: 0.6931 - acc: 0.506 - ETA: 4s - loss: 0.6932 - acc: 0.506 - ETA: 4s - loss: 0.6932 - acc: 0.505 - ETA: 4s - loss: 0.6932 - acc: 0.505 - ETA: 4s - loss: 0.6932 - acc: 0.505 - ETA: 4s - loss: 0.6932 - acc: 0.505 - ETA: 4s - loss: 0.6932 - acc: 0.505 - ETA: 4s - loss: 0.6932 - acc: 0.504 - ETA: 4s - loss: 0.6932 - acc: 0.505 - ETA: 4s - loss: 0.6932 - acc: 0.504 - ETA: 4s - loss: 0.6932 - acc: 0.504 - ETA: 4s - loss: 0.6932 - acc: 0.504 - ETA: 4s - loss: 0.6932 - acc: 0.504 - ETA: 4s - loss: 0.6932 - acc: 0.504 - ETA: 4s - loss: 0.6932 - acc: 0.504 - ETA: 4s - loss: 0.6932 - acc: 0.503 - ETA: 3s - loss: 0.6932 - acc: 0.503 - ETA: 3s - loss: 0.6932 - acc: 0.503 - ETA: 3s - loss: 0.6932 - acc: 0.503 - ETA: 3s - loss: 0.6932 - acc: 0.503 - ETA: 3s - loss: 0.6932 - acc: 0.503 - ETA: 3s - loss: 0.6932 - acc: 0.504 - ETA: 3s - loss: 0.6932 - acc: 0.504 - ETA: 3s - loss: 0.6932 - acc: 0.504 - ETA: 3s - loss: 0.6932 - acc: 0.504 - ETA: 3s - loss: 0.6932 - acc: 0.504 - ETA: 3s - loss: 0.6931 - acc: 0.505 - ETA: 3s - loss: 0.6932 - acc: 0.505 - ETA: 3s - loss: 0.6932 - acc: 0.505 - ETA: 3s - loss: 0.6932 - acc: 0.504 - ETA: 3s - loss: 0.6932 - acc: 0.505 - ETA: 3s - loss: 0.6932 - acc: 0.505 - ETA: 3s - loss: 0.6932 - acc: 0.504 - ETA: 3s - loss: 0.6932 - acc: 0.503 - ETA: 2s - loss: 0.6932 - acc: 0.503 - ETA: 2s - loss: 0.6932 - acc: 0.502 - ETA: 2s - loss: 0.6932 - acc: 0.502 - ETA: 2s - loss: 0.6932 - acc: 0.502 - ETA: 2s - loss: 0.6932 - acc: 0.502 - ETA: 2s - loss: 0.6932 - acc: 0.502 - ETA: 2s - loss: 0.6932 - acc: 0.502 - ETA: 2s - loss: 0.6932 - acc: 0.502 - ETA: 2s - loss: 0.6932 - acc: 0.501 - ETA: 2s - loss: 0.6932 - acc: 0.501 - ETA: 2s - loss: 0.6932 - acc: 0.501 - ETA: 2s - loss: 0.6932 - acc: 0.501 - ETA: 2s - loss: 0.6932 - acc: 0.501 - ETA: 2s - loss: 0.6932 - acc: 0.502 - ETA: 2s - loss: 0.6932 - acc: 0.502 - ETA: 2s - loss: 0.6932 - acc: 0.502 - ETA: 2s - loss: 0.6932 - acc: 0.501 - ETA: 2s - loss: 0.6932 - acc: 0.501 - ETA: 1s - loss: 0.6932 - acc: 0.501 - ETA: 1s - loss: 0.6932 - acc: 0.502 - ETA: 1s - loss: 0.6932 - acc: 0.502 - ETA: 1s - loss: 0.6932 - acc: 0.501 - ETA: 1s - loss: 0.6932 - acc: 0.501 - ETA: 1s - loss: 0.6932 - acc: 0.502 - ETA: 1s - loss: 0.6932 - acc: 0.502 - ETA: 1s - loss: 0.6932 - acc: 0.501 - ETA: 1s - loss: 0.6932 - acc: 0.501 - ETA: 1s - loss: 0.6932 - acc: 0.501 - ETA: 1s - loss: 0.6932 - acc: 0.501 - ETA: 1s - loss: 0.6932 - acc: 0.501 - ETA: 1s - loss: 0.6932 - acc: 0.501 - ETA: 1s - loss: 0.6932 - acc: 0.501 - ETA: 1s - loss: 0.6932 - acc: 0.501 - ETA: 1s - loss: 0.6932 - acc: 0.501 - ETA: 1s - loss: 0.6932 - acc: 0.501 - ETA: 1s - loss: 0.6932 - acc: 0.501 - ETA: 1s - loss: 0.6932 - acc: 0.501 - ETA: 0s - loss: 0.6932 - acc: 0.501 - ETA: 0s - loss: 0.6932 - acc: 0.501 - ETA: 0s - loss: 0.6932 - acc: 0.501 - ETA: 0s - loss: 0.6932 - acc: 0.501 - ETA: 0s - loss: 0.6932 - acc: 0.501 - ETA: 0s - loss: 0.6932 - acc: 0.501 - ETA: 0s - loss: 0.6932 - acc: 0.501 - ETA: 0s - loss: 0.6932 - acc: 0.501 - ETA: 0s - loss: 0.6932 - acc: 0.501 - ETA: 0s - loss: 0.6932 - acc: 0.500 - ETA: 0s - loss: 0.6932 - acc: 0.500 - ETA: 0s - loss: 0.6932 - acc: 0.500 - ETA: 0s - loss: 0.6932 - acc: 0.500 - ETA: 0s - loss: 0.6932 - acc: 0.500 - ETA: 0s - loss: 0.6932 - acc: 0.500 - ETA: 0s - loss: 0.6932 - acc: 0.501 - ETA: 0s - loss: 0.6932 - acc: 0.500 - ETA: 0s - loss: 0.6932 - acc: 0.500 - ETA: 0s - loss: 0.6932 - acc: 0.500 - 7s 101us/sample - loss: 0.6932 - acc: 0.5005\n",
      "Epoch 2/10\n"
     ]
    },
    {
     "name": "stdout",
     "output_type": "stream",
     "text": [
      "69301/69301 [==============================] - ETA: 41s - loss: 0.6926 - acc: 0.60 - ETA: 7s - loss: 0.6933 - acc: 0.4923 - ETA: 7s - loss: 0.6932 - acc: 0.501 - ETA: 6s - loss: 0.6932 - acc: 0.500 - ETA: 6s - loss: 0.6932 - acc: 0.498 - ETA: 6s - loss: 0.6932 - acc: 0.495 - ETA: 6s - loss: 0.6932 - acc: 0.495 - ETA: 6s - loss: 0.6932 - acc: 0.496 - ETA: 6s - loss: 0.6931 - acc: 0.500 - ETA: 6s - loss: 0.6932 - acc: 0.498 - ETA: 6s - loss: 0.6932 - acc: 0.496 - ETA: 6s - loss: 0.6932 - acc: 0.499 - ETA: 6s - loss: 0.6932 - acc: 0.500 - ETA: 6s - loss: 0.6932 - acc: 0.500 - ETA: 6s - loss: 0.6932 - acc: 0.499 - ETA: 6s - loss: 0.6932 - acc: 0.498 - ETA: 5s - loss: 0.6932 - acc: 0.500 - ETA: 5s - loss: 0.6932 - acc: 0.501 - ETA: 5s - loss: 0.6932 - acc: 0.502 - ETA: 5s - loss: 0.6931 - acc: 0.504 - ETA: 5s - loss: 0.6931 - acc: 0.503 - ETA: 5s - loss: 0.6931 - acc: 0.503 - ETA: 5s - loss: 0.6931 - acc: 0.503 - ETA: 5s - loss: 0.6932 - acc: 0.503 - ETA: 5s - loss: 0.6932 - acc: 0.501 - ETA: 5s - loss: 0.6932 - acc: 0.501 - ETA: 5s - loss: 0.6932 - acc: 0.501 - ETA: 5s - loss: 0.6932 - acc: 0.502 - ETA: 5s - loss: 0.6932 - acc: 0.502 - ETA: 5s - loss: 0.6932 - acc: 0.501 - ETA: 5s - loss: 0.6932 - acc: 0.502 - ETA: 5s - loss: 0.6932 - acc: 0.501 - ETA: 5s - loss: 0.6932 - acc: 0.501 - ETA: 5s - loss: 0.6932 - acc: 0.500 - ETA: 5s - loss: 0.6932 - acc: 0.500 - ETA: 4s - loss: 0.6932 - acc: 0.500 - ETA: 4s - loss: 0.6932 - acc: 0.499 - ETA: 4s - loss: 0.6932 - acc: 0.500 - ETA: 4s - loss: 0.6932 - acc: 0.499 - ETA: 4s - loss: 0.6932 - acc: 0.499 - ETA: 4s - loss: 0.6932 - acc: 0.500 - ETA: 4s - loss: 0.6932 - acc: 0.499 - ETA: 4s - loss: 0.6932 - acc: 0.499 - ETA: 4s - loss: 0.6932 - acc: 0.499 - ETA: 4s - loss: 0.6932 - acc: 0.499 - ETA: 4s - loss: 0.6932 - acc: 0.499 - ETA: 4s - loss: 0.6932 - acc: 0.499 - ETA: 4s - loss: 0.6932 - acc: 0.499 - ETA: 4s - loss: 0.6932 - acc: 0.499 - ETA: 4s - loss: 0.6932 - acc: 0.500 - ETA: 4s - loss: 0.6932 - acc: 0.500 - ETA: 4s - loss: 0.6932 - acc: 0.500 - ETA: 4s - loss: 0.6932 - acc: 0.500 - ETA: 4s - loss: 0.6932 - acc: 0.500 - ETA: 4s - loss: 0.6932 - acc: 0.501 - ETA: 4s - loss: 0.6932 - acc: 0.500 - ETA: 4s - loss: 0.6932 - acc: 0.500 - ETA: 4s - loss: 0.6932 - acc: 0.501 - ETA: 4s - loss: 0.6932 - acc: 0.501 - ETA: 4s - loss: 0.6931 - acc: 0.501 - ETA: 4s - loss: 0.6931 - acc: 0.501 - ETA: 4s - loss: 0.6932 - acc: 0.501 - ETA: 4s - loss: 0.6932 - acc: 0.501 - ETA: 4s - loss: 0.6932 - acc: 0.501 - ETA: 4s - loss: 0.6931 - acc: 0.502 - ETA: 4s - loss: 0.6932 - acc: 0.502 - ETA: 4s - loss: 0.6932 - acc: 0.502 - ETA: 4s - loss: 0.6932 - acc: 0.502 - ETA: 4s - loss: 0.6932 - acc: 0.502 - ETA: 4s - loss: 0.6932 - acc: 0.502 - ETA: 4s - loss: 0.6932 - acc: 0.501 - ETA: 4s - loss: 0.6932 - acc: 0.501 - ETA: 4s - loss: 0.6932 - acc: 0.501 - ETA: 4s - loss: 0.6932 - acc: 0.501 - ETA: 4s - loss: 0.6932 - acc: 0.501 - ETA: 4s - loss: 0.6932 - acc: 0.501 - ETA: 4s - loss: 0.6932 - acc: 0.501 - ETA: 4s - loss: 0.6932 - acc: 0.501 - ETA: 4s - loss: 0.6932 - acc: 0.501 - ETA: 4s - loss: 0.6932 - acc: 0.501 - ETA: 4s - loss: 0.6932 - acc: 0.501 - ETA: 4s - loss: 0.6932 - acc: 0.501 - ETA: 4s - loss: 0.6931 - acc: 0.502 - ETA: 3s - loss: 0.6931 - acc: 0.502 - ETA: 3s - loss: 0.6931 - acc: 0.502 - ETA: 3s - loss: 0.6931 - acc: 0.502 - ETA: 3s - loss: 0.6931 - acc: 0.502 - ETA: 3s - loss: 0.6931 - acc: 0.502 - ETA: 3s - loss: 0.6931 - acc: 0.502 - ETA: 3s - loss: 0.6931 - acc: 0.503 - ETA: 3s - loss: 0.6931 - acc: 0.503 - ETA: 3s - loss: 0.6931 - acc: 0.502 - ETA: 3s - loss: 0.6931 - acc: 0.502 - ETA: 3s - loss: 0.6930 - acc: 0.502 - ETA: 3s - loss: 0.6930 - acc: 0.503 - ETA: 3s - loss: 0.6930 - acc: 0.502 - ETA: 3s - loss: 0.6930 - acc: 0.502 - ETA: 3s - loss: 0.6930 - acc: 0.502 - ETA: 3s - loss: 0.6930 - acc: 0.502 - ETA: 3s - loss: 0.6930 - acc: 0.502 - ETA: 3s - loss: 0.6930 - acc: 0.503 - ETA: 3s - loss: 0.6930 - acc: 0.502 - ETA: 3s - loss: 0.6930 - acc: 0.502 - ETA: 3s - loss: 0.6930 - acc: 0.502 - ETA: 3s - loss: 0.6930 - acc: 0.502 - ETA: 3s - loss: 0.6930 - acc: 0.502 - ETA: 3s - loss: 0.6930 - acc: 0.503 - ETA: 3s - loss: 0.6930 - acc: 0.503 - ETA: 3s - loss: 0.6930 - acc: 0.503 - ETA: 2s - loss: 0.6930 - acc: 0.503 - ETA: 2s - loss: 0.6930 - acc: 0.503 - ETA: 2s - loss: 0.6930 - acc: 0.503 - ETA: 2s - loss: 0.6930 - acc: 0.502 - ETA: 2s - loss: 0.6930 - acc: 0.502 - ETA: 2s - loss: 0.6930 - acc: 0.503 - ETA: 2s - loss: 0.6930 - acc: 0.503 - ETA: 2s - loss: 0.6930 - acc: 0.503 - ETA: 2s - loss: 0.6930 - acc: 0.503 - ETA: 2s - loss: 0.6930 - acc: 0.503 - ETA: 2s - loss: 0.6930 - acc: 0.503 - ETA: 2s - loss: 0.6930 - acc: 0.503 - ETA: 2s - loss: 0.6930 - acc: 0.503 - ETA: 2s - loss: 0.6930 - acc: 0.503 - ETA: 2s - loss: 0.6930 - acc: 0.503 - ETA: 2s - loss: 0.6930 - acc: 0.503 - ETA: 2s - loss: 0.6930 - acc: 0.503 - ETA: 2s - loss: 0.6930 - acc: 0.503 - ETA: 2s - loss: 0.6930 - acc: 0.503 - ETA: 2s - loss: 0.6930 - acc: 0.503 - ETA: 2s - loss: 0.6930 - acc: 0.503 - ETA: 2s - loss: 0.6929 - acc: 0.503 - ETA: 2s - loss: 0.6930 - acc: 0.503 - ETA: 1s - loss: 0.6930 - acc: 0.503 - ETA: 1s - loss: 0.6930 - acc: 0.503 - ETA: 1s - loss: 0.6930 - acc: 0.503 - ETA: 1s - loss: 0.6930 - acc: 0.503 - ETA: 1s - loss: 0.6929 - acc: 0.503 - ETA: 1s - loss: 0.6929 - acc: 0.503 - ETA: 1s - loss: 0.6930 - acc: 0.503 - ETA: 1s - loss: 0.6929 - acc: 0.503 - ETA: 1s - loss: 0.6929 - acc: 0.503 - ETA: 1s - loss: 0.6929 - acc: 0.503 - ETA: 1s - loss: 0.6929 - acc: 0.503 - ETA: 1s - loss: 0.6929 - acc: 0.503 - ETA: 1s - loss: 0.6929 - acc: 0.503 - ETA: 1s - loss: 0.6929 - acc: 0.503 - ETA: 1s - loss: 0.6929 - acc: 0.503 - ETA: 1s - loss: 0.6929 - acc: 0.503 - ETA: 1s - loss: 0.6929 - acc: 0.503 - ETA: 1s - loss: 0.6929 - acc: 0.503 - ETA: 1s - loss: 0.6929 - acc: 0.503 - ETA: 1s - loss: 0.6929 - acc: 0.503 - ETA: 1s - loss: 0.6929 - acc: 0.503 - ETA: 1s - loss: 0.6929 - acc: 0.503 - ETA: 1s - loss: 0.6929 - acc: 0.503 - ETA: 0s - loss: 0.6929 - acc: 0.503 - ETA: 0s - loss: 0.6928 - acc: 0.503 - ETA: 0s - loss: 0.6928 - acc: 0.503 - ETA: 0s - loss: 0.6928 - acc: 0.503 - ETA: 0s - loss: 0.6928 - acc: 0.503 - ETA: 0s - loss: 0.6928 - acc: 0.503 - ETA: 0s - loss: 0.6928 - acc: 0.503 - ETA: 0s - loss: 0.6928 - acc: 0.503 - ETA: 0s - loss: 0.6928 - acc: 0.503 - ETA: 0s - loss: 0.6928 - acc: 0.503 - ETA: 0s - loss: 0.6928 - acc: 0.503 - ETA: 0s - loss: 0.6928 - acc: 0.503 - ETA: 0s - loss: 0.6928 - acc: 0.503 - ETA: 0s - loss: 0.6928 - acc: 0.503 - ETA: 0s - loss: 0.6928 - acc: 0.503 - ETA: 0s - loss: 0.6928 - acc: 0.503 - ETA: 0s - loss: 0.6927 - acc: 0.503 - ETA: 0s - loss: 0.6928 - acc: 0.503 - ETA: 0s - loss: 0.6928 - acc: 0.503 - ETA: 0s - loss: 0.6928 - acc: 0.503 - ETA: 0s - loss: 0.6927 - acc: 0.503 - 9s 129us/sample - loss: 0.6927 - acc: 0.5037\n",
      "Epoch 3/10\n"
     ]
    },
    {
     "name": "stdout",
     "output_type": "stream",
     "text": [
      "69301/69301 [==============================] - ETA: 1:09 - loss: 0.6996 - acc: 0.200 - ETA: 10s - loss: 0.6885 - acc: 0.547 - ETA: 9s - loss: 0.6921 - acc: 0.5333 - ETA: 9s - loss: 0.6922 - acc: 0.526 - ETA: 9s - loss: 0.6930 - acc: 0.516 - ETA: 9s - loss: 0.6929 - acc: 0.518 - ETA: 9s - loss: 0.6929 - acc: 0.514 - ETA: 9s - loss: 0.6924 - acc: 0.518 - ETA: 9s - loss: 0.6922 - acc: 0.521 - ETA: 8s - loss: 0.6922 - acc: 0.520 - ETA: 8s - loss: 0.6926 - acc: 0.514 - ETA: 8s - loss: 0.6927 - acc: 0.511 - ETA: 8s - loss: 0.6927 - acc: 0.509 - ETA: 8s - loss: 0.6928 - acc: 0.506 - ETA: 8s - loss: 0.6927 - acc: 0.505 - ETA: 8s - loss: 0.6926 - acc: 0.504 - ETA: 8s - loss: 0.6925 - acc: 0.504 - ETA: 8s - loss: 0.6925 - acc: 0.504 - ETA: 8s - loss: 0.6925 - acc: 0.506 - ETA: 8s - loss: 0.6923 - acc: 0.507 - ETA: 8s - loss: 0.6922 - acc: 0.509 - ETA: 8s - loss: 0.6919 - acc: 0.511 - ETA: 8s - loss: 0.6920 - acc: 0.511 - ETA: 8s - loss: 0.6920 - acc: 0.510 - ETA: 8s - loss: 0.6919 - acc: 0.509 - ETA: 8s - loss: 0.6919 - acc: 0.509 - ETA: 8s - loss: 0.6919 - acc: 0.508 - ETA: 8s - loss: 0.6918 - acc: 0.509 - ETA: 8s - loss: 0.6919 - acc: 0.508 - ETA: 8s - loss: 0.6917 - acc: 0.509 - ETA: 8s - loss: 0.6917 - acc: 0.508 - ETA: 8s - loss: 0.6915 - acc: 0.507 - ETA: 8s - loss: 0.6916 - acc: 0.507 - ETA: 8s - loss: 0.6915 - acc: 0.507 - ETA: 8s - loss: 0.6915 - acc: 0.508 - ETA: 8s - loss: 0.6916 - acc: 0.507 - ETA: 8s - loss: 0.6914 - acc: 0.508 - ETA: 8s - loss: 0.6915 - acc: 0.508 - ETA: 8s - loss: 0.6915 - acc: 0.509 - ETA: 8s - loss: 0.6914 - acc: 0.509 - ETA: 8s - loss: 0.6913 - acc: 0.510 - ETA: 8s - loss: 0.6913 - acc: 0.510 - ETA: 8s - loss: 0.6913 - acc: 0.509 - ETA: 8s - loss: 0.6914 - acc: 0.508 - ETA: 8s - loss: 0.6914 - acc: 0.508 - ETA: 8s - loss: 0.6913 - acc: 0.508 - ETA: 8s - loss: 0.6914 - acc: 0.509 - ETA: 8s - loss: 0.6913 - acc: 0.509 - ETA: 8s - loss: 0.6914 - acc: 0.509 - ETA: 8s - loss: 0.6915 - acc: 0.509 - ETA: 8s - loss: 0.6915 - acc: 0.508 - ETA: 8s - loss: 0.6915 - acc: 0.508 - ETA: 8s - loss: 0.6916 - acc: 0.508 - ETA: 8s - loss: 0.6915 - acc: 0.507 - ETA: 7s - loss: 0.6916 - acc: 0.508 - ETA: 7s - loss: 0.6915 - acc: 0.507 - ETA: 7s - loss: 0.6915 - acc: 0.507 - ETA: 7s - loss: 0.6916 - acc: 0.507 - ETA: 7s - loss: 0.6915 - acc: 0.506 - ETA: 7s - loss: 0.6915 - acc: 0.506 - ETA: 7s - loss: 0.6915 - acc: 0.506 - ETA: 7s - loss: 0.6915 - acc: 0.506 - ETA: 7s - loss: 0.6915 - acc: 0.506 - ETA: 7s - loss: 0.6915 - acc: 0.506 - ETA: 7s - loss: 0.6921 - acc: 0.506 - ETA: 7s - loss: 0.6921 - acc: 0.506 - ETA: 7s - loss: 0.6920 - acc: 0.507 - ETA: 7s - loss: 0.6920 - acc: 0.508 - ETA: 7s - loss: 0.6920 - acc: 0.508 - ETA: 7s - loss: 0.6919 - acc: 0.509 - ETA: 7s - loss: 0.6919 - acc: 0.509 - ETA: 7s - loss: 0.6919 - acc: 0.509 - ETA: 6s - loss: 0.6918 - acc: 0.509 - ETA: 6s - loss: 0.6918 - acc: 0.510 - ETA: 6s - loss: 0.6918 - acc: 0.510 - ETA: 6s - loss: 0.6917 - acc: 0.510 - ETA: 6s - loss: 0.6918 - acc: 0.510 - ETA: 6s - loss: 0.6918 - acc: 0.510 - ETA: 6s - loss: 0.6918 - acc: 0.510 - ETA: 6s - loss: 0.6917 - acc: 0.511 - ETA: 6s - loss: 0.6917 - acc: 0.511 - ETA: 6s - loss: 0.6916 - acc: 0.512 - ETA: 6s - loss: 0.6917 - acc: 0.512 - ETA: 6s - loss: 0.6916 - acc: 0.512 - ETA: 6s - loss: 0.6916 - acc: 0.512 - ETA: 6s - loss: 0.6916 - acc: 0.512 - ETA: 6s - loss: 0.6916 - acc: 0.512 - ETA: 6s - loss: 0.6916 - acc: 0.512 - ETA: 5s - loss: 0.6916 - acc: 0.512 - ETA: 5s - loss: 0.6915 - acc: 0.512 - ETA: 5s - loss: 0.6915 - acc: 0.512 - ETA: 5s - loss: 0.6915 - acc: 0.512 - ETA: 5s - loss: 0.6915 - acc: 0.512 - ETA: 5s - loss: 0.6915 - acc: 0.512 - ETA: 5s - loss: 0.6915 - acc: 0.511 - ETA: 5s - loss: 0.6916 - acc: 0.511 - ETA: 5s - loss: 0.6916 - acc: 0.511 - ETA: 5s - loss: 0.6916 - acc: 0.511 - ETA: 5s - loss: 0.6916 - acc: 0.510 - ETA: 5s - loss: 0.6915 - acc: 0.510 - ETA: 5s - loss: 0.6915 - acc: 0.510 - ETA: 5s - loss: 0.6915 - acc: 0.510 - ETA: 5s - loss: 0.6915 - acc: 0.510 - ETA: 5s - loss: 0.6915 - acc: 0.510 - ETA: 5s - loss: 0.6915 - acc: 0.510 - ETA: 5s - loss: 0.6915 - acc: 0.510 - ETA: 5s - loss: 0.6915 - acc: 0.511 - ETA: 5s - loss: 0.6915 - acc: 0.511 - ETA: 4s - loss: 0.6915 - acc: 0.511 - ETA: 4s - loss: 0.6915 - acc: 0.511 - ETA: 4s - loss: 0.6915 - acc: 0.511 - ETA: 4s - loss: 0.6919 - acc: 0.511 - ETA: 4s - loss: 0.6918 - acc: 0.511 - ETA: 4s - loss: 0.6919 - acc: 0.511 - ETA: 4s - loss: 0.6919 - acc: 0.511 - ETA: 4s - loss: 0.6918 - acc: 0.511 - ETA: 4s - loss: 0.6918 - acc: 0.512 - ETA: 4s - loss: 0.6918 - acc: 0.512 - ETA: 4s - loss: 0.6918 - acc: 0.512 - ETA: 4s - loss: 0.6918 - acc: 0.512 - ETA: 4s - loss: 0.6918 - acc: 0.512 - ETA: 4s - loss: 0.6917 - acc: 0.512 - ETA: 4s - loss: 0.6917 - acc: 0.512 - ETA: 4s - loss: 0.6916 - acc: 0.512 - ETA: 4s - loss: 0.6916 - acc: 0.512 - ETA: 4s - loss: 0.6916 - acc: 0.512 - ETA: 4s - loss: 0.6916 - acc: 0.513 - ETA: 3s - loss: 0.6916 - acc: 0.513 - ETA: 3s - loss: 0.6916 - acc: 0.513 - ETA: 3s - loss: 0.6915 - acc: 0.513 - ETA: 3s - loss: 0.6915 - acc: 0.513 - ETA: 3s - loss: 0.6915 - acc: 0.513 - ETA: 3s - loss: 0.6915 - acc: 0.513 - ETA: 3s - loss: 0.6915 - acc: 0.512 - ETA: 3s - loss: 0.6915 - acc: 0.512 - ETA: 3s - loss: 0.6915 - acc: 0.513 - ETA: 3s - loss: 0.6915 - acc: 0.512 - ETA: 3s - loss: 0.6915 - acc: 0.512 - ETA: 3s - loss: 0.6915 - acc: 0.512 - ETA: 3s - loss: 0.6914 - acc: 0.512 - ETA: 3s - loss: 0.6914 - acc: 0.512 - ETA: 3s - loss: 0.6914 - acc: 0.512 - ETA: 3s - loss: 0.6914 - acc: 0.512 - ETA: 3s - loss: 0.6914 - acc: 0.513 - ETA: 3s - loss: 0.6914 - acc: 0.513 - ETA: 3s - loss: 0.6914 - acc: 0.513 - ETA: 3s - loss: 0.6913 - acc: 0.513 - ETA: 3s - loss: 0.6913 - acc: 0.513 - ETA: 3s - loss: 0.6913 - acc: 0.513 - ETA: 2s - loss: 0.6913 - acc: 0.513 - ETA: 2s - loss: 0.6913 - acc: 0.514 - ETA: 2s - loss: 0.6913 - acc: 0.514 - ETA: 2s - loss: 0.6913 - acc: 0.514 - ETA: 2s - loss: 0.6913 - acc: 0.513 - ETA: 2s - loss: 0.6914 - acc: 0.513 - ETA: 2s - loss: 0.6914 - acc: 0.513 - ETA: 2s - loss: 0.6914 - acc: 0.513 - ETA: 2s - loss: 0.6914 - acc: 0.513 - ETA: 2s - loss: 0.6914 - acc: 0.513 - ETA: 2s - loss: 0.6914 - acc: 0.513 - ETA: 2s - loss: 0.6914 - acc: 0.513 - ETA: 2s - loss: 0.6914 - acc: 0.513 - ETA: 2s - loss: 0.6914 - acc: 0.513 - ETA: 2s - loss: 0.6914 - acc: 0.513 - ETA: 2s - loss: 0.6914 - acc: 0.513 - ETA: 2s - loss: 0.6914 - acc: 0.513 - ETA: 2s - loss: 0.6913 - acc: 0.513 - ETA: 2s - loss: 0.6914 - acc: 0.513 - ETA: 2s - loss: 0.6914 - acc: 0.513 - ETA: 1s - loss: 0.6915 - acc: 0.513 - ETA: 1s - loss: 0.6915 - acc: 0.513 - ETA: 1s - loss: 0.6915 - acc: 0.513 - ETA: 1s - loss: 0.6915 - acc: 0.514 - ETA: 1s - loss: 0.6915 - acc: 0.514 - ETA: 1s - loss: 0.6915 - acc: 0.514 - ETA: 1s - loss: 0.6916 - acc: 0.514 - ETA: 1s - loss: 0.6916 - acc: 0.515 - ETA: 1s - loss: 0.6916 - acc: 0.515 - ETA: 1s - loss: 0.6916 - acc: 0.515 - ETA: 1s - loss: 0.6916 - acc: 0.515 - ETA: 1s - loss: 0.6915 - acc: 0.516 - ETA: 1s - loss: 0.6915 - acc: 0.516 - ETA: 1s - loss: 0.6915 - acc: 0.515 - ETA: 1s - loss: 0.6915 - acc: 0.515 - ETA: 1s - loss: 0.6915 - acc: 0.515 - ETA: 1s - loss: 0.6915 - acc: 0.515 - ETA: 1s - loss: 0.6915 - acc: 0.515 - ETA: 1s - loss: 0.6915 - acc: 0.515 - ETA: 1s - loss: 0.6915 - acc: 0.515 - ETA: 1s - loss: 0.6915 - acc: 0.515 - ETA: 0s - loss: 0.6915 - acc: 0.515 - ETA: 0s - loss: 0.6915 - acc: 0.516 - ETA: 0s - loss: 0.6915 - acc: 0.515 - ETA: 0s - loss: 0.6915 - acc: 0.516 - ETA: 0s - loss: 0.6915 - acc: 0.516 - ETA: 0s - loss: 0.6915 - acc: 0.516 - ETA: 0s - loss: 0.6915 - acc: 0.516 - ETA: 0s - loss: 0.6914 - acc: 0.516 - ETA: 0s - loss: 0.6914 - acc: 0.516 - ETA: 0s - loss: 0.6915 - acc: 0.516 - ETA: 0s - loss: 0.6914 - acc: 0.516 - ETA: 0s - loss: 0.6915 - acc: 0.515 - ETA: 0s - loss: 0.6914 - acc: 0.515 - ETA: 0s - loss: 0.6914 - acc: 0.515 - ETA: 0s - loss: 0.6914 - acc: 0.515 - ETA: 0s - loss: 0.6914 - acc: 0.516 - ETA: 0s - loss: 0.6914 - acc: 0.516 - ETA: 0s - loss: 0.6913 - acc: 0.516 - ETA: 0s - loss: 0.6913 - acc: 0.516 - ETA: 0s - loss: 0.6913 - acc: 0.516 - ETA: 0s - loss: 0.6913 - acc: 0.516 - 11s 155us/sample - loss: 0.6913 - acc: 0.5163\n",
      "Epoch 4/10\n"
     ]
    },
    {
     "name": "stdout",
     "output_type": "stream",
     "text": [
      "69301/69301 [==============================] - ETA: 1:02 - loss: 0.6802 - acc: 0.700 - ETA: 12s - loss: 0.6972 - acc: 0.497 - ETA: 11s - loss: 0.6970 - acc: 0.48 - ETA: 11s - loss: 0.6936 - acc: 0.49 - ETA: 10s - loss: 0.6931 - acc: 0.48 - ETA: 10s - loss: 0.7019 - acc: 0.49 - ETA: 10s - loss: 0.7005 - acc: 0.48 - ETA: 10s - loss: 0.6997 - acc: 0.49 - ETA: 10s - loss: 0.6987 - acc: 0.49 - ETA: 10s - loss: 0.6978 - acc: 0.50 - ETA: 10s - loss: 0.6972 - acc: 0.49 - ETA: 10s - loss: 0.6967 - acc: 0.49 - ETA: 10s - loss: 0.6963 - acc: 0.49 - ETA: 10s - loss: 0.6958 - acc: 0.50 - ETA: 10s - loss: 0.6955 - acc: 0.50 - ETA: 9s - loss: 0.6955 - acc: 0.5000 - ETA: 9s - loss: 0.6953 - acc: 0.499 - ETA: 9s - loss: 0.6951 - acc: 0.498 - ETA: 9s - loss: 0.6949 - acc: 0.499 - ETA: 9s - loss: 0.6947 - acc: 0.500 - ETA: 9s - loss: 0.6945 - acc: 0.498 - ETA: 9s - loss: 0.6940 - acc: 0.498 - ETA: 9s - loss: 0.6940 - acc: 0.500 - ETA: 9s - loss: 0.6940 - acc: 0.501 - ETA: 9s - loss: 0.6940 - acc: 0.502 - ETA: 9s - loss: 0.6936 - acc: 0.503 - ETA: 9s - loss: 0.6935 - acc: 0.503 - ETA: 9s - loss: 0.6933 - acc: 0.506 - ETA: 9s - loss: 0.6932 - acc: 0.506 - ETA: 8s - loss: 0.6927 - acc: 0.509 - ETA: 8s - loss: 0.6924 - acc: 0.508 - ETA: 8s - loss: 0.6926 - acc: 0.508 - ETA: 8s - loss: 0.6926 - acc: 0.507 - ETA: 8s - loss: 0.6927 - acc: 0.506 - ETA: 8s - loss: 0.6927 - acc: 0.506 - ETA: 8s - loss: 0.6928 - acc: 0.506 - ETA: 8s - loss: 0.6928 - acc: 0.505 - ETA: 8s - loss: 0.6928 - acc: 0.505 - ETA: 8s - loss: 0.6927 - acc: 0.505 - ETA: 8s - loss: 0.6929 - acc: 0.505 - ETA: 8s - loss: 0.6928 - acc: 0.506 - ETA: 8s - loss: 0.6928 - acc: 0.507 - ETA: 8s - loss: 0.6928 - acc: 0.506 - ETA: 8s - loss: 0.6928 - acc: 0.506 - ETA: 8s - loss: 0.6927 - acc: 0.506 - ETA: 7s - loss: 0.6928 - acc: 0.506 - ETA: 7s - loss: 0.6928 - acc: 0.505 - ETA: 7s - loss: 0.6927 - acc: 0.505 - ETA: 7s - loss: 0.6927 - acc: 0.505 - ETA: 7s - loss: 0.6933 - acc: 0.505 - ETA: 7s - loss: 0.6932 - acc: 0.505 - ETA: 7s - loss: 0.6932 - acc: 0.506 - ETA: 7s - loss: 0.6932 - acc: 0.506 - ETA: 7s - loss: 0.6932 - acc: 0.506 - ETA: 7s - loss: 0.6932 - acc: 0.505 - ETA: 7s - loss: 0.6931 - acc: 0.506 - ETA: 7s - loss: 0.6931 - acc: 0.505 - ETA: 7s - loss: 0.6931 - acc: 0.505 - ETA: 7s - loss: 0.6931 - acc: 0.504 - ETA: 6s - loss: 0.6930 - acc: 0.504 - ETA: 6s - loss: 0.6930 - acc: 0.504 - ETA: 6s - loss: 0.6930 - acc: 0.504 - ETA: 6s - loss: 0.6930 - acc: 0.505 - ETA: 6s - loss: 0.6930 - acc: 0.505 - ETA: 6s - loss: 0.6931 - acc: 0.504 - ETA: 6s - loss: 0.6930 - acc: 0.504 - ETA: 6s - loss: 0.6930 - acc: 0.504 - ETA: 6s - loss: 0.6930 - acc: 0.504 - ETA: 6s - loss: 0.6930 - acc: 0.504 - ETA: 6s - loss: 0.6932 - acc: 0.504 - ETA: 6s - loss: 0.6932 - acc: 0.504 - ETA: 6s - loss: 0.6932 - acc: 0.504 - ETA: 6s - loss: 0.6931 - acc: 0.504 - ETA: 6s - loss: 0.6931 - acc: 0.504 - ETA: 6s - loss: 0.6931 - acc: 0.504 - ETA: 6s - loss: 0.6931 - acc: 0.504 - ETA: 5s - loss: 0.6930 - acc: 0.504 - ETA: 5s - loss: 0.6929 - acc: 0.504 - ETA: 5s - loss: 0.6929 - acc: 0.504 - ETA: 5s - loss: 0.6929 - acc: 0.504 - ETA: 5s - loss: 0.6928 - acc: 0.504 - ETA: 5s - loss: 0.6928 - acc: 0.505 - ETA: 5s - loss: 0.6928 - acc: 0.504 - ETA: 5s - loss: 0.6928 - acc: 0.505 - ETA: 5s - loss: 0.6928 - acc: 0.505 - ETA: 5s - loss: 0.6927 - acc: 0.505 - ETA: 5s - loss: 0.6927 - acc: 0.505 - ETA: 5s - loss: 0.6927 - acc: 0.505 - ETA: 5s - loss: 0.6927 - acc: 0.506 - ETA: 5s - loss: 0.6927 - acc: 0.506 - ETA: 5s - loss: 0.6927 - acc: 0.506 - ETA: 5s - loss: 0.6927 - acc: 0.507 - ETA: 5s - loss: 0.6926 - acc: 0.507 - ETA: 4s - loss: 0.6926 - acc: 0.507 - ETA: 4s - loss: 0.6926 - acc: 0.507 - ETA: 4s - loss: 0.6925 - acc: 0.507 - ETA: 4s - loss: 0.6925 - acc: 0.508 - ETA: 4s - loss: 0.6925 - acc: 0.507 - ETA: 4s - loss: 0.6925 - acc: 0.508 - ETA: 4s - loss: 0.6925 - acc: 0.508 - ETA: 4s - loss: 0.6925 - acc: 0.507 - ETA: 4s - loss: 0.6924 - acc: 0.508 - ETA: 4s - loss: 0.6925 - acc: 0.508 - ETA: 4s - loss: 0.6924 - acc: 0.508 - ETA: 4s - loss: 0.6924 - acc: 0.508 - ETA: 4s - loss: 0.6923 - acc: 0.508 - ETA: 4s - loss: 0.6923 - acc: 0.508 - ETA: 4s - loss: 0.6922 - acc: 0.509 - ETA: 4s - loss: 0.6921 - acc: 0.509 - ETA: 4s - loss: 0.6921 - acc: 0.509 - ETA: 4s - loss: 0.6920 - acc: 0.510 - ETA: 3s - loss: 0.6919 - acc: 0.510 - ETA: 3s - loss: 0.6920 - acc: 0.510 - ETA: 3s - loss: 0.6919 - acc: 0.510 - ETA: 3s - loss: 0.6919 - acc: 0.510 - ETA: 3s - loss: 0.6918 - acc: 0.511 - ETA: 3s - loss: 0.6918 - acc: 0.512 - ETA: 3s - loss: 0.6917 - acc: 0.512 - ETA: 3s - loss: 0.6916 - acc: 0.512 - ETA: 3s - loss: 0.6915 - acc: 0.513 - ETA: 3s - loss: 0.6915 - acc: 0.513 - ETA: 3s - loss: 0.6914 - acc: 0.513 - ETA: 3s - loss: 0.6915 - acc: 0.513 - ETA: 3s - loss: 0.6914 - acc: 0.513 - ETA: 3s - loss: 0.6915 - acc: 0.513 - ETA: 3s - loss: 0.6914 - acc: 0.513 - ETA: 3s - loss: 0.6914 - acc: 0.513 - ETA: 3s - loss: 0.6914 - acc: 0.513 - ETA: 3s - loss: 0.6914 - acc: 0.513 - ETA: 2s - loss: 0.6914 - acc: 0.513 - ETA: 2s - loss: 0.6913 - acc: 0.513 - ETA: 2s - loss: 0.6913 - acc: 0.513 - ETA: 2s - loss: 0.6913 - acc: 0.513 - ETA: 2s - loss: 0.6913 - acc: 0.513 - ETA: 2s - loss: 0.6914 - acc: 0.513 - ETA: 2s - loss: 0.6914 - acc: 0.513 - ETA: 2s - loss: 0.6914 - acc: 0.513 - ETA: 2s - loss: 0.6914 - acc: 0.513 - ETA: 2s - loss: 0.6914 - acc: 0.513 - ETA: 2s - loss: 0.6914 - acc: 0.513 - ETA: 2s - loss: 0.6914 - acc: 0.513 - ETA: 2s - loss: 0.6914 - acc: 0.513 - ETA: 2s - loss: 0.6914 - acc: 0.513 - ETA: 2s - loss: 0.6914 - acc: 0.513 - ETA: 2s - loss: 0.6914 - acc: 0.513 - ETA: 2s - loss: 0.6914 - acc: 0.513 - ETA: 2s - loss: 0.6914 - acc: 0.513 - ETA: 2s - loss: 0.6914 - acc: 0.512 - ETA: 1s - loss: 0.6914 - acc: 0.512 - ETA: 1s - loss: 0.6914 - acc: 0.513 - ETA: 1s - loss: 0.6914 - acc: 0.513 - ETA: 1s - loss: 0.6914 - acc: 0.513 - ETA: 1s - loss: 0.6917 - acc: 0.513 - ETA: 1s - loss: 0.6917 - acc: 0.513 - ETA: 1s - loss: 0.6917 - acc: 0.513 - ETA: 1s - loss: 0.6917 - acc: 0.513 - ETA: 1s - loss: 0.6916 - acc: 0.513 - ETA: 1s - loss: 0.6916 - acc: 0.513 - ETA: 1s - loss: 0.6916 - acc: 0.513 - ETA: 1s - loss: 0.6916 - acc: 0.513 - ETA: 1s - loss: 0.6916 - acc: 0.513 - ETA: 1s - loss: 0.6916 - acc: 0.513 - ETA: 1s - loss: 0.6916 - acc: 0.513 - ETA: 1s - loss: 0.6915 - acc: 0.513 - ETA: 1s - loss: 0.6915 - acc: 0.513 - ETA: 1s - loss: 0.6915 - acc: 0.514 - ETA: 1s - loss: 0.6915 - acc: 0.513 - ETA: 1s - loss: 0.6914 - acc: 0.513 - ETA: 0s - loss: 0.6914 - acc: 0.514 - ETA: 0s - loss: 0.6914 - acc: 0.514 - ETA: 0s - loss: 0.6914 - acc: 0.514 - ETA: 0s - loss: 0.6914 - acc: 0.514 - ETA: 0s - loss: 0.6913 - acc: 0.514 - ETA: 0s - loss: 0.6913 - acc: 0.514 - ETA: 0s - loss: 0.6913 - acc: 0.514 - ETA: 0s - loss: 0.6913 - acc: 0.514 - ETA: 0s - loss: 0.6913 - acc: 0.514 - ETA: 0s - loss: 0.6913 - acc: 0.514 - ETA: 0s - loss: 0.6912 - acc: 0.514 - ETA: 0s - loss: 0.6912 - acc: 0.514 - ETA: 0s - loss: 0.6911 - acc: 0.514 - ETA: 0s - loss: 0.6911 - acc: 0.514 - ETA: 0s - loss: 0.6911 - acc: 0.515 - ETA: 0s - loss: 0.6911 - acc: 0.515 - ETA: 0s - loss: 0.6910 - acc: 0.515 - ETA: 0s - loss: 0.6910 - acc: 0.515 - ETA: 0s - loss: 0.6909 - acc: 0.515 - 10s 137us/sample - loss: 0.6909 - acc: 0.5154\n",
      "Epoch 5/10\n"
     ]
    },
    {
     "name": "stdout",
     "output_type": "stream",
     "text": [
      "69301/69301 [==============================] - ETA: 55s - loss: 0.6827 - acc: 0.70 - ETA: 10s - loss: 0.6867 - acc: 0.51 - ETA: 9s - loss: 0.6871 - acc: 0.5065 - ETA: 9s - loss: 0.6905 - acc: 0.507 - ETA: 9s - loss: 0.6916 - acc: 0.498 - ETA: 9s - loss: 0.6910 - acc: 0.494 - ETA: 9s - loss: 0.6913 - acc: 0.497 - ETA: 9s - loss: 0.6907 - acc: 0.500 - ETA: 9s - loss: 0.6900 - acc: 0.507 - ETA: 9s - loss: 0.6906 - acc: 0.508 - ETA: 9s - loss: 0.6905 - acc: 0.507 - ETA: 9s - loss: 0.6953 - acc: 0.504 - ETA: 8s - loss: 0.6948 - acc: 0.504 - ETA: 8s - loss: 0.6944 - acc: 0.502 - ETA: 8s - loss: 0.6943 - acc: 0.501 - ETA: 8s - loss: 0.6940 - acc: 0.503 - ETA: 8s - loss: 0.6939 - acc: 0.501 - ETA: 8s - loss: 0.6940 - acc: 0.499 - ETA: 8s - loss: 0.6938 - acc: 0.501 - ETA: 8s - loss: 0.6935 - acc: 0.501 - ETA: 8s - loss: 0.6933 - acc: 0.503 - ETA: 8s - loss: 0.6931 - acc: 0.505 - ETA: 8s - loss: 0.6929 - acc: 0.507 - ETA: 8s - loss: 0.6929 - acc: 0.508 - ETA: 8s - loss: 0.6926 - acc: 0.508 - ETA: 8s - loss: 0.6923 - acc: 0.509 - ETA: 8s - loss: 0.6924 - acc: 0.511 - ETA: 8s - loss: 0.6922 - acc: 0.512 - ETA: 8s - loss: 0.6922 - acc: 0.510 - ETA: 8s - loss: 0.6921 - acc: 0.511 - ETA: 7s - loss: 0.6922 - acc: 0.510 - ETA: 7s - loss: 0.6921 - acc: 0.510 - ETA: 7s - loss: 0.6921 - acc: 0.510 - ETA: 7s - loss: 0.6921 - acc: 0.510 - ETA: 7s - loss: 0.6920 - acc: 0.509 - ETA: 7s - loss: 0.6920 - acc: 0.509 - ETA: 7s - loss: 0.6919 - acc: 0.510 - ETA: 7s - loss: 0.6919 - acc: 0.510 - ETA: 7s - loss: 0.6917 - acc: 0.510 - ETA: 7s - loss: 0.6916 - acc: 0.511 - ETA: 7s - loss: 0.6917 - acc: 0.512 - ETA: 7s - loss: 0.6914 - acc: 0.512 - ETA: 7s - loss: 0.6914 - acc: 0.511 - ETA: 7s - loss: 0.6913 - acc: 0.511 - ETA: 7s - loss: 0.6913 - acc: 0.512 - ETA: 7s - loss: 0.6912 - acc: 0.513 - ETA: 7s - loss: 0.6909 - acc: 0.514 - ETA: 6s - loss: 0.6908 - acc: 0.514 - ETA: 6s - loss: 0.6908 - acc: 0.515 - ETA: 6s - loss: 0.6908 - acc: 0.516 - ETA: 6s - loss: 0.6908 - acc: 0.516 - ETA: 6s - loss: 0.6906 - acc: 0.517 - ETA: 6s - loss: 0.6905 - acc: 0.518 - ETA: 6s - loss: 0.6905 - acc: 0.518 - ETA: 6s - loss: 0.6914 - acc: 0.519 - ETA: 6s - loss: 0.6913 - acc: 0.519 - ETA: 6s - loss: 0.6912 - acc: 0.519 - ETA: 6s - loss: 0.6911 - acc: 0.519 - ETA: 6s - loss: 0.6910 - acc: 0.521 - ETA: 6s - loss: 0.6909 - acc: 0.522 - ETA: 6s - loss: 0.6908 - acc: 0.522 - ETA: 6s - loss: 0.6907 - acc: 0.523 - ETA: 6s - loss: 0.6907 - acc: 0.522 - ETA: 6s - loss: 0.6906 - acc: 0.523 - ETA: 6s - loss: 0.6913 - acc: 0.522 - ETA: 5s - loss: 0.6913 - acc: 0.522 - ETA: 5s - loss: 0.6913 - acc: 0.523 - ETA: 5s - loss: 0.6912 - acc: 0.524 - ETA: 5s - loss: 0.6912 - acc: 0.525 - ETA: 5s - loss: 0.6911 - acc: 0.524 - ETA: 5s - loss: 0.6911 - acc: 0.524 - ETA: 5s - loss: 0.6911 - acc: 0.525 - ETA: 5s - loss: 0.6910 - acc: 0.525 - ETA: 5s - loss: 0.6909 - acc: 0.526 - ETA: 5s - loss: 0.6911 - acc: 0.526 - ETA: 5s - loss: 0.6911 - acc: 0.527 - ETA: 5s - loss: 0.6917 - acc: 0.528 - ETA: 5s - loss: 0.6917 - acc: 0.528 - ETA: 5s - loss: 0.6916 - acc: 0.529 - ETA: 5s - loss: 0.6916 - acc: 0.529 - ETA: 5s - loss: 0.6916 - acc: 0.529 - ETA: 5s - loss: 0.6915 - acc: 0.529 - ETA: 5s - loss: 0.6914 - acc: 0.529 - ETA: 5s - loss: 0.6913 - acc: 0.529 - ETA: 4s - loss: 0.6913 - acc: 0.529 - ETA: 4s - loss: 0.6913 - acc: 0.529 - ETA: 4s - loss: 0.6912 - acc: 0.530 - ETA: 4s - loss: 0.6911 - acc: 0.531 - ETA: 4s - loss: 0.6911 - acc: 0.531 - ETA: 4s - loss: 0.6911 - acc: 0.530 - ETA: 4s - loss: 0.6910 - acc: 0.530 - ETA: 4s - loss: 0.6910 - acc: 0.530 - ETA: 4s - loss: 0.6909 - acc: 0.531 - ETA: 4s - loss: 0.6909 - acc: 0.531 - ETA: 4s - loss: 0.6908 - acc: 0.531 - ETA: 4s - loss: 0.6908 - acc: 0.531 - ETA: 4s - loss: 0.6907 - acc: 0.531 - ETA: 4s - loss: 0.6907 - acc: 0.531 - ETA: 4s - loss: 0.6906 - acc: 0.531 - ETA: 4s - loss: 0.6906 - acc: 0.531 - ETA: 4s - loss: 0.6906 - acc: 0.532 - ETA: 4s - loss: 0.6906 - acc: 0.531 - ETA: 4s - loss: 0.6905 - acc: 0.532 - ETA: 4s - loss: 0.6905 - acc: 0.532 - ETA: 3s - loss: 0.6905 - acc: 0.532 - ETA: 3s - loss: 0.6904 - acc: 0.532 - ETA: 3s - loss: 0.6904 - acc: 0.532 - ETA: 3s - loss: 0.6903 - acc: 0.533 - ETA: 3s - loss: 0.6902 - acc: 0.533 - ETA: 3s - loss: 0.6902 - acc: 0.532 - ETA: 3s - loss: 0.6902 - acc: 0.532 - ETA: 3s - loss: 0.6902 - acc: 0.532 - ETA: 3s - loss: 0.6902 - acc: 0.532 - ETA: 3s - loss: 0.6902 - acc: 0.532 - ETA: 3s - loss: 0.6902 - acc: 0.532 - ETA: 3s - loss: 0.6902 - acc: 0.532 - ETA: 3s - loss: 0.6902 - acc: 0.532 - ETA: 3s - loss: 0.6902 - acc: 0.532 - ETA: 3s - loss: 0.6901 - acc: 0.533 - ETA: 3s - loss: 0.6901 - acc: 0.533 - ETA: 3s - loss: 0.6901 - acc: 0.533 - ETA: 3s - loss: 0.6900 - acc: 0.533 - ETA: 3s - loss: 0.6899 - acc: 0.534 - ETA: 2s - loss: 0.6898 - acc: 0.534 - ETA: 2s - loss: 0.6897 - acc: 0.534 - ETA: 2s - loss: 0.6898 - acc: 0.534 - ETA: 2s - loss: 0.6896 - acc: 0.534 - ETA: 2s - loss: 0.6896 - acc: 0.534 - ETA: 2s - loss: 0.6895 - acc: 0.534 - ETA: 2s - loss: 0.6902 - acc: 0.534 - ETA: 2s - loss: 0.6901 - acc: 0.534 - ETA: 2s - loss: 0.6901 - acc: 0.535 - ETA: 2s - loss: 0.6901 - acc: 0.535 - ETA: 2s - loss: 0.6900 - acc: 0.535 - ETA: 2s - loss: 0.6900 - acc: 0.535 - ETA: 2s - loss: 0.6900 - acc: 0.535 - ETA: 2s - loss: 0.6900 - acc: 0.535 - ETA: 2s - loss: 0.6899 - acc: 0.535 - ETA: 2s - loss: 0.6898 - acc: 0.535 - ETA: 2s - loss: 0.6897 - acc: 0.536 - ETA: 2s - loss: 0.6897 - acc: 0.535 - ETA: 2s - loss: 0.6896 - acc: 0.536 - ETA: 1s - loss: 0.6895 - acc: 0.536 - ETA: 1s - loss: 0.6894 - acc: 0.536 - ETA: 1s - loss: 0.6893 - acc: 0.537 - ETA: 1s - loss: 0.6893 - acc: 0.537 - ETA: 1s - loss: 0.6892 - acc: 0.537 - ETA: 1s - loss: 0.6892 - acc: 0.537 - ETA: 1s - loss: 0.6891 - acc: 0.537 - ETA: 1s - loss: 0.6891 - acc: 0.537 - ETA: 1s - loss: 0.6891 - acc: 0.537 - ETA: 1s - loss: 0.6891 - acc: 0.537 - ETA: 1s - loss: 0.6891 - acc: 0.537 - ETA: 1s - loss: 0.6890 - acc: 0.538 - ETA: 1s - loss: 0.6890 - acc: 0.538 - ETA: 1s - loss: 0.6890 - acc: 0.538 - ETA: 1s - loss: 0.6889 - acc: 0.538 - ETA: 1s - loss: 0.6888 - acc: 0.538 - ETA: 1s - loss: 0.6888 - acc: 0.538 - ETA: 1s - loss: 0.6887 - acc: 0.538 - ETA: 1s - loss: 0.6887 - acc: 0.538 - ETA: 0s - loss: 0.6887 - acc: 0.539 - ETA: 0s - loss: 0.6887 - acc: 0.539 - ETA: 0s - loss: 0.6888 - acc: 0.538 - ETA: 0s - loss: 0.6888 - acc: 0.538 - ETA: 0s - loss: 0.6888 - acc: 0.538 - ETA: 0s - loss: 0.6888 - acc: 0.538 - ETA: 0s - loss: 0.6887 - acc: 0.538 - ETA: 0s - loss: 0.6887 - acc: 0.539 - ETA: 0s - loss: 0.6887 - acc: 0.539 - ETA: 0s - loss: 0.6886 - acc: 0.539 - ETA: 0s - loss: 0.6886 - acc: 0.539 - ETA: 0s - loss: 0.6886 - acc: 0.539 - ETA: 0s - loss: 0.6885 - acc: 0.539 - ETA: 0s - loss: 0.6885 - acc: 0.539 - ETA: 0s - loss: 0.6886 - acc: 0.539 - ETA: 0s - loss: 0.6886 - acc: 0.539 - ETA: 0s - loss: 0.6885 - acc: 0.539 - ETA: 0s - loss: 0.6884 - acc: 0.540 - ETA: 0s - loss: 0.6883 - acc: 0.540 - ETA: 0s - loss: 0.6883 - acc: 0.540 - 9s 133us/sample - loss: 0.6883 - acc: 0.5403\n",
      "Epoch 6/10\n"
     ]
    },
    {
     "name": "stdout",
     "output_type": "stream",
     "text": [
      "69301/69301 [==============================] - ETA: 1:01 - loss: 0.6556 - acc: 0.700 - ETA: 10s - loss: 0.6757 - acc: 0.546 - ETA: 9s - loss: 0.6744 - acc: 0.5701 - ETA: 9s - loss: 0.6785 - acc: 0.577 - ETA: 9s - loss: 0.6802 - acc: 0.577 - ETA: 9s - loss: 0.6788 - acc: 0.577 - ETA: 9s - loss: 0.6781 - acc: 0.577 - ETA: 8s - loss: 0.6795 - acc: 0.575 - ETA: 8s - loss: 0.6795 - acc: 0.577 - ETA: 8s - loss: 0.6812 - acc: 0.572 - ETA: 8s - loss: 0.6809 - acc: 0.568 - ETA: 8s - loss: 0.6803 - acc: 0.571 - ETA: 8s - loss: 0.6800 - acc: 0.571 - ETA: 8s - loss: 0.6800 - acc: 0.569 - ETA: 8s - loss: 0.6794 - acc: 0.570 - ETA: 8s - loss: 0.6789 - acc: 0.572 - ETA: 8s - loss: 0.6788 - acc: 0.572 - ETA: 8s - loss: 0.6800 - acc: 0.572 - ETA: 8s - loss: 0.6800 - acc: 0.569 - ETA: 8s - loss: 0.6800 - acc: 0.570 - ETA: 8s - loss: 0.6800 - acc: 0.567 - ETA: 8s - loss: 0.6800 - acc: 0.566 - ETA: 8s - loss: 0.6789 - acc: 0.567 - ETA: 8s - loss: 0.6785 - acc: 0.569 - ETA: 8s - loss: 0.6800 - acc: 0.566 - ETA: 7s - loss: 0.6797 - acc: 0.567 - ETA: 7s - loss: 0.6798 - acc: 0.567 - ETA: 7s - loss: 0.6794 - acc: 0.567 - ETA: 7s - loss: 0.6792 - acc: 0.567 - ETA: 7s - loss: 0.6789 - acc: 0.568 - ETA: 7s - loss: 0.6789 - acc: 0.567 - ETA: 7s - loss: 0.6792 - acc: 0.566 - ETA: 7s - loss: 0.6795 - acc: 0.564 - ETA: 7s - loss: 0.6798 - acc: 0.562 - ETA: 7s - loss: 0.6808 - acc: 0.559 - ETA: 7s - loss: 0.6811 - acc: 0.557 - ETA: 7s - loss: 0.6809 - acc: 0.557 - ETA: 7s - loss: 0.6805 - acc: 0.558 - ETA: 7s - loss: 0.6816 - acc: 0.556 - ETA: 7s - loss: 0.6820 - acc: 0.555 - ETA: 7s - loss: 0.6822 - acc: 0.554 - ETA: 7s - loss: 0.6824 - acc: 0.552 - ETA: 7s - loss: 0.6826 - acc: 0.551 - ETA: 6s - loss: 0.6828 - acc: 0.550 - ETA: 6s - loss: 0.6833 - acc: 0.549 - ETA: 6s - loss: 0.6835 - acc: 0.549 - ETA: 6s - loss: 0.6837 - acc: 0.547 - ETA: 6s - loss: 0.6838 - acc: 0.547 - ETA: 6s - loss: 0.6838 - acc: 0.547 - ETA: 6s - loss: 0.6841 - acc: 0.546 - ETA: 6s - loss: 0.6842 - acc: 0.546 - ETA: 6s - loss: 0.6842 - acc: 0.545 - ETA: 6s - loss: 0.6843 - acc: 0.544 - ETA: 6s - loss: 0.6845 - acc: 0.543 - ETA: 6s - loss: 0.6845 - acc: 0.543 - ETA: 6s - loss: 0.6847 - acc: 0.542 - ETA: 6s - loss: 0.6848 - acc: 0.541 - ETA: 6s - loss: 0.6850 - acc: 0.541 - ETA: 6s - loss: 0.6851 - acc: 0.540 - ETA: 6s - loss: 0.6853 - acc: 0.539 - ETA: 6s - loss: 0.6852 - acc: 0.538 - ETA: 6s - loss: 0.6853 - acc: 0.538 - ETA: 6s - loss: 0.6854 - acc: 0.538 - ETA: 5s - loss: 0.6854 - acc: 0.538 - ETA: 5s - loss: 0.6855 - acc: 0.537 - ETA: 5s - loss: 0.6856 - acc: 0.536 - ETA: 5s - loss: 0.6857 - acc: 0.536 - ETA: 5s - loss: 0.6858 - acc: 0.535 - ETA: 5s - loss: 0.6871 - acc: 0.534 - ETA: 5s - loss: 0.6871 - acc: 0.534 - ETA: 5s - loss: 0.6872 - acc: 0.534 - ETA: 5s - loss: 0.6872 - acc: 0.533 - ETA: 5s - loss: 0.6873 - acc: 0.533 - ETA: 5s - loss: 0.6874 - acc: 0.532 - ETA: 5s - loss: 0.6874 - acc: 0.532 - ETA: 5s - loss: 0.6875 - acc: 0.532 - ETA: 5s - loss: 0.6875 - acc: 0.531 - ETA: 5s - loss: 0.6876 - acc: 0.531 - ETA: 5s - loss: 0.6876 - acc: 0.531 - ETA: 5s - loss: 0.6876 - acc: 0.530 - ETA: 5s - loss: 0.6877 - acc: 0.530 - ETA: 5s - loss: 0.6878 - acc: 0.530 - ETA: 5s - loss: 0.6878 - acc: 0.530 - ETA: 4s - loss: 0.6879 - acc: 0.529 - ETA: 4s - loss: 0.6879 - acc: 0.529 - ETA: 4s - loss: 0.6879 - acc: 0.529 - ETA: 4s - loss: 0.6880 - acc: 0.529 - ETA: 4s - loss: 0.6880 - acc: 0.528 - ETA: 4s - loss: 0.6881 - acc: 0.528 - ETA: 4s - loss: 0.6881 - acc: 0.527 - ETA: 4s - loss: 0.6880 - acc: 0.528 - ETA: 4s - loss: 0.6881 - acc: 0.527 - ETA: 4s - loss: 0.6882 - acc: 0.527 - ETA: 4s - loss: 0.6882 - acc: 0.526 - ETA: 4s - loss: 0.6883 - acc: 0.526 - ETA: 4s - loss: 0.6883 - acc: 0.526 - ETA: 4s - loss: 0.6884 - acc: 0.526 - ETA: 4s - loss: 0.6884 - acc: 0.525 - ETA: 4s - loss: 0.6884 - acc: 0.525 - ETA: 4s - loss: 0.6885 - acc: 0.525 - ETA: 4s - loss: 0.6885 - acc: 0.525 - ETA: 4s - loss: 0.6886 - acc: 0.525 - ETA: 3s - loss: 0.6889 - acc: 0.525 - ETA: 3s - loss: 0.6889 - acc: 0.525 - ETA: 3s - loss: 0.6890 - acc: 0.525 - ETA: 3s - loss: 0.6890 - acc: 0.525 - ETA: 3s - loss: 0.6890 - acc: 0.525 - ETA: 3s - loss: 0.6890 - acc: 0.525 - ETA: 3s - loss: 0.6891 - acc: 0.524 - ETA: 3s - loss: 0.6891 - acc: 0.524 - ETA: 3s - loss: 0.6891 - acc: 0.524 - ETA: 3s - loss: 0.6892 - acc: 0.523 - ETA: 3s - loss: 0.6892 - acc: 0.523 - ETA: 3s - loss: 0.6892 - acc: 0.523 - ETA: 3s - loss: 0.6892 - acc: 0.523 - ETA: 3s - loss: 0.6893 - acc: 0.523 - ETA: 3s - loss: 0.6893 - acc: 0.523 - ETA: 3s - loss: 0.6893 - acc: 0.523 - ETA: 3s - loss: 0.6893 - acc: 0.523 - ETA: 3s - loss: 0.6894 - acc: 0.522 - ETA: 3s - loss: 0.6894 - acc: 0.523 - ETA: 2s - loss: 0.6894 - acc: 0.522 - ETA: 2s - loss: 0.6894 - acc: 0.522 - ETA: 2s - loss: 0.6895 - acc: 0.522 - ETA: 2s - loss: 0.6895 - acc: 0.522 - ETA: 2s - loss: 0.6895 - acc: 0.521 - ETA: 2s - loss: 0.6895 - acc: 0.521 - ETA: 2s - loss: 0.6898 - acc: 0.521 - ETA: 2s - loss: 0.6898 - acc: 0.521 - ETA: 2s - loss: 0.6898 - acc: 0.521 - ETA: 2s - loss: 0.6898 - acc: 0.520 - ETA: 2s - loss: 0.6898 - acc: 0.520 - ETA: 2s - loss: 0.6898 - acc: 0.520 - ETA: 2s - loss: 0.6898 - acc: 0.520 - ETA: 2s - loss: 0.6898 - acc: 0.520 - ETA: 2s - loss: 0.6898 - acc: 0.520 - ETA: 2s - loss: 0.6898 - acc: 0.521 - ETA: 2s - loss: 0.6897 - acc: 0.521 - ETA: 2s - loss: 0.6897 - acc: 0.521 - ETA: 2s - loss: 0.6897 - acc: 0.521 - ETA: 1s - loss: 0.6897 - acc: 0.521 - ETA: 1s - loss: 0.6897 - acc: 0.521 - ETA: 1s - loss: 0.6897 - acc: 0.521 - ETA: 1s - loss: 0.6898 - acc: 0.520 - ETA: 1s - loss: 0.6898 - acc: 0.520 - ETA: 1s - loss: 0.6898 - acc: 0.521 - ETA: 1s - loss: 0.6897 - acc: 0.521 - ETA: 1s - loss: 0.6896 - acc: 0.521 - ETA: 1s - loss: 0.6895 - acc: 0.521 - ETA: 1s - loss: 0.6896 - acc: 0.521 - ETA: 1s - loss: 0.6896 - acc: 0.521 - ETA: 1s - loss: 0.6896 - acc: 0.521 - ETA: 1s - loss: 0.6896 - acc: 0.521 - ETA: 1s - loss: 0.6896 - acc: 0.521 - ETA: 1s - loss: 0.6896 - acc: 0.521 - ETA: 1s - loss: 0.6896 - acc: 0.521 - ETA: 1s - loss: 0.6896 - acc: 0.520 - ETA: 1s - loss: 0.6896 - acc: 0.520 - ETA: 1s - loss: 0.6897 - acc: 0.521 - ETA: 1s - loss: 0.6902 - acc: 0.520 - ETA: 0s - loss: 0.6903 - acc: 0.520 - ETA: 0s - loss: 0.6903 - acc: 0.520 - ETA: 0s - loss: 0.6903 - acc: 0.520 - ETA: 0s - loss: 0.6903 - acc: 0.520 - ETA: 0s - loss: 0.6903 - acc: 0.520 - ETA: 0s - loss: 0.6903 - acc: 0.520 - ETA: 0s - loss: 0.6903 - acc: 0.520 - ETA: 0s - loss: 0.6903 - acc: 0.520 - ETA: 0s - loss: 0.6904 - acc: 0.520 - ETA: 0s - loss: 0.6904 - acc: 0.519 - ETA: 0s - loss: 0.6904 - acc: 0.519 - ETA: 0s - loss: 0.6904 - acc: 0.520 - ETA: 0s - loss: 0.6904 - acc: 0.520 - ETA: 0s - loss: 0.6903 - acc: 0.520 - ETA: 0s - loss: 0.6903 - acc: 0.520 - ETA: 0s - loss: 0.6903 - acc: 0.520 - ETA: 0s - loss: 0.6903 - acc: 0.520 - ETA: 0s - loss: 0.6903 - acc: 0.520 - ETA: 0s - loss: 0.6903 - acc: 0.520 - ETA: 0s - loss: 0.6903 - acc: 0.520 - 9s 132us/sample - loss: 0.6902 - acc: 0.5206\n",
      "Epoch 7/10\n"
     ]
    },
    {
     "name": "stdout",
     "output_type": "stream",
     "text": [
      "69301/69301 [==============================] - ETA: 55s - loss: 0.7095 - acc: 0.60 - ETA: 10s - loss: 0.6888 - acc: 0.53 - ETA: 9s - loss: 0.6890 - acc: 0.5184 - ETA: 9s - loss: 0.6870 - acc: 0.538 - ETA: 9s - loss: 0.6873 - acc: 0.542 - ETA: 9s - loss: 0.6869 - acc: 0.545 - ETA: 9s - loss: 0.6869 - acc: 0.543 - ETA: 9s - loss: 0.6874 - acc: 0.541 - ETA: 9s - loss: 0.6880 - acc: 0.539 - ETA: 9s - loss: 0.6881 - acc: 0.541 - ETA: 9s - loss: 0.6908 - acc: 0.544 - ETA: 9s - loss: 0.6906 - acc: 0.546 - ETA: 8s - loss: 0.6904 - acc: 0.541 - ETA: 8s - loss: 0.6900 - acc: 0.544 - ETA: 8s - loss: 0.6899 - acc: 0.547 - ETA: 8s - loss: 0.6896 - acc: 0.549 - ETA: 8s - loss: 0.6892 - acc: 0.553 - ETA: 8s - loss: 0.6889 - acc: 0.554 - ETA: 8s - loss: 0.6886 - acc: 0.554 - ETA: 8s - loss: 0.6881 - acc: 0.552 - ETA: 8s - loss: 0.6881 - acc: 0.552 - ETA: 8s - loss: 0.6881 - acc: 0.553 - ETA: 8s - loss: 0.6880 - acc: 0.553 - ETA: 8s - loss: 0.6879 - acc: 0.552 - ETA: 8s - loss: 0.6874 - acc: 0.551 - ETA: 8s - loss: 0.6872 - acc: 0.552 - ETA: 8s - loss: 0.6868 - acc: 0.551 - ETA: 8s - loss: 0.6866 - acc: 0.550 - ETA: 7s - loss: 0.6880 - acc: 0.551 - ETA: 7s - loss: 0.6889 - acc: 0.550 - ETA: 7s - loss: 0.6887 - acc: 0.552 - ETA: 7s - loss: 0.6887 - acc: 0.552 - ETA: 7s - loss: 0.6886 - acc: 0.551 - ETA: 7s - loss: 0.6885 - acc: 0.552 - ETA: 7s - loss: 0.6884 - acc: 0.550 - ETA: 7s - loss: 0.6885 - acc: 0.550 - ETA: 7s - loss: 0.6883 - acc: 0.550 - ETA: 7s - loss: 0.6882 - acc: 0.551 - ETA: 7s - loss: 0.6881 - acc: 0.550 - ETA: 7s - loss: 0.6879 - acc: 0.550 - ETA: 7s - loss: 0.6875 - acc: 0.550 - ETA: 7s - loss: 0.6873 - acc: 0.549 - ETA: 7s - loss: 0.6872 - acc: 0.550 - ETA: 7s - loss: 0.6873 - acc: 0.549 - ETA: 7s - loss: 0.6873 - acc: 0.549 - ETA: 6s - loss: 0.6871 - acc: 0.549 - ETA: 6s - loss: 0.6872 - acc: 0.548 - ETA: 6s - loss: 0.6869 - acc: 0.550 - ETA: 6s - loss: 0.6870 - acc: 0.550 - ETA: 6s - loss: 0.6898 - acc: 0.549 - ETA: 6s - loss: 0.6898 - acc: 0.549 - ETA: 6s - loss: 0.6897 - acc: 0.549 - ETA: 6s - loss: 0.6897 - acc: 0.548 - ETA: 6s - loss: 0.6896 - acc: 0.549 - ETA: 6s - loss: 0.6893 - acc: 0.549 - ETA: 6s - loss: 0.6893 - acc: 0.549 - ETA: 6s - loss: 0.6892 - acc: 0.549 - ETA: 6s - loss: 0.6892 - acc: 0.549 - ETA: 6s - loss: 0.6893 - acc: 0.548 - ETA: 6s - loss: 0.6892 - acc: 0.548 - ETA: 6s - loss: 0.6891 - acc: 0.549 - ETA: 6s - loss: 0.6888 - acc: 0.549 - ETA: 6s - loss: 0.6888 - acc: 0.549 - ETA: 6s - loss: 0.6888 - acc: 0.549 - ETA: 6s - loss: 0.6887 - acc: 0.550 - ETA: 6s - loss: 0.6886 - acc: 0.550 - ETA: 6s - loss: 0.6886 - acc: 0.550 - ETA: 6s - loss: 0.6886 - acc: 0.549 - ETA: 6s - loss: 0.6885 - acc: 0.550 - ETA: 5s - loss: 0.6884 - acc: 0.550 - ETA: 5s - loss: 0.6884 - acc: 0.549 - ETA: 5s - loss: 0.6883 - acc: 0.549 - ETA: 5s - loss: 0.6884 - acc: 0.548 - ETA: 5s - loss: 0.6888 - acc: 0.547 - ETA: 5s - loss: 0.6889 - acc: 0.547 - ETA: 5s - loss: 0.6889 - acc: 0.546 - ETA: 5s - loss: 0.6890 - acc: 0.545 - ETA: 5s - loss: 0.6890 - acc: 0.545 - ETA: 5s - loss: 0.6890 - acc: 0.545 - ETA: 5s - loss: 0.6888 - acc: 0.546 - ETA: 5s - loss: 0.6888 - acc: 0.545 - ETA: 5s - loss: 0.6888 - acc: 0.545 - ETA: 5s - loss: 0.6888 - acc: 0.545 - ETA: 5s - loss: 0.6887 - acc: 0.546 - ETA: 5s - loss: 0.6886 - acc: 0.546 - ETA: 5s - loss: 0.6886 - acc: 0.546 - ETA: 5s - loss: 0.6885 - acc: 0.546 - ETA: 5s - loss: 0.6883 - acc: 0.547 - ETA: 5s - loss: 0.6882 - acc: 0.547 - ETA: 5s - loss: 0.6882 - acc: 0.547 - ETA: 5s - loss: 0.6882 - acc: 0.547 - ETA: 5s - loss: 0.6881 - acc: 0.548 - ETA: 4s - loss: 0.6879 - acc: 0.548 - ETA: 4s - loss: 0.6879 - acc: 0.548 - ETA: 4s - loss: 0.6878 - acc: 0.548 - ETA: 4s - loss: 0.6875 - acc: 0.548 - ETA: 4s - loss: 0.6876 - acc: 0.548 - ETA: 4s - loss: 0.6877 - acc: 0.547 - ETA: 4s - loss: 0.6877 - acc: 0.547 - ETA: 4s - loss: 0.6877 - acc: 0.547 - ETA: 4s - loss: 0.6879 - acc: 0.546 - ETA: 4s - loss: 0.6879 - acc: 0.545 - ETA: 4s - loss: 0.6879 - acc: 0.545 - ETA: 4s - loss: 0.6879 - acc: 0.545 - ETA: 4s - loss: 0.6879 - acc: 0.544 - ETA: 4s - loss: 0.6882 - acc: 0.544 - ETA: 4s - loss: 0.6881 - acc: 0.544 - ETA: 4s - loss: 0.6881 - acc: 0.544 - ETA: 4s - loss: 0.6880 - acc: 0.544 - ETA: 4s - loss: 0.6879 - acc: 0.544 - ETA: 4s - loss: 0.6877 - acc: 0.544 - ETA: 3s - loss: 0.6878 - acc: 0.544 - ETA: 3s - loss: 0.6879 - acc: 0.543 - ETA: 3s - loss: 0.6879 - acc: 0.543 - ETA: 3s - loss: 0.6879 - acc: 0.543 - ETA: 3s - loss: 0.6878 - acc: 0.543 - ETA: 3s - loss: 0.6879 - acc: 0.542 - ETA: 3s - loss: 0.6879 - acc: 0.542 - ETA: 3s - loss: 0.6879 - acc: 0.542 - ETA: 3s - loss: 0.6879 - acc: 0.542 - ETA: 3s - loss: 0.6878 - acc: 0.542 - ETA: 3s - loss: 0.6878 - acc: 0.542 - ETA: 3s - loss: 0.6878 - acc: 0.542 - ETA: 3s - loss: 0.6878 - acc: 0.542 - ETA: 3s - loss: 0.6879 - acc: 0.542 - ETA: 3s - loss: 0.6879 - acc: 0.542 - ETA: 3s - loss: 0.6879 - acc: 0.542 - ETA: 3s - loss: 0.6879 - acc: 0.541 - ETA: 3s - loss: 0.6879 - acc: 0.541 - ETA: 3s - loss: 0.6879 - acc: 0.540 - ETA: 2s - loss: 0.6880 - acc: 0.540 - ETA: 2s - loss: 0.6880 - acc: 0.540 - ETA: 2s - loss: 0.6880 - acc: 0.540 - ETA: 2s - loss: 0.6880 - acc: 0.540 - ETA: 2s - loss: 0.6881 - acc: 0.539 - ETA: 2s - loss: 0.6881 - acc: 0.539 - ETA: 2s - loss: 0.6881 - acc: 0.539 - ETA: 2s - loss: 0.6882 - acc: 0.538 - ETA: 2s - loss: 0.6882 - acc: 0.538 - ETA: 2s - loss: 0.6882 - acc: 0.538 - ETA: 2s - loss: 0.6883 - acc: 0.538 - ETA: 2s - loss: 0.6883 - acc: 0.538 - ETA: 2s - loss: 0.6883 - acc: 0.537 - ETA: 2s - loss: 0.6883 - acc: 0.537 - ETA: 2s - loss: 0.6884 - acc: 0.537 - ETA: 2s - loss: 0.6884 - acc: 0.537 - ETA: 2s - loss: 0.6884 - acc: 0.536 - ETA: 2s - loss: 0.6884 - acc: 0.536 - ETA: 1s - loss: 0.6885 - acc: 0.536 - ETA: 1s - loss: 0.6885 - acc: 0.536 - ETA: 1s - loss: 0.6885 - acc: 0.536 - ETA: 1s - loss: 0.6885 - acc: 0.535 - ETA: 1s - loss: 0.6886 - acc: 0.535 - ETA: 1s - loss: 0.6886 - acc: 0.534 - ETA: 1s - loss: 0.6886 - acc: 0.534 - ETA: 1s - loss: 0.6887 - acc: 0.534 - ETA: 1s - loss: 0.6887 - acc: 0.533 - ETA: 1s - loss: 0.6887 - acc: 0.534 - ETA: 1s - loss: 0.6888 - acc: 0.533 - ETA: 1s - loss: 0.6888 - acc: 0.533 - ETA: 1s - loss: 0.6888 - acc: 0.533 - ETA: 1s - loss: 0.6888 - acc: 0.533 - ETA: 1s - loss: 0.6888 - acc: 0.533 - ETA: 1s - loss: 0.6888 - acc: 0.533 - ETA: 1s - loss: 0.6889 - acc: 0.532 - ETA: 1s - loss: 0.6889 - acc: 0.532 - ETA: 1s - loss: 0.6889 - acc: 0.532 - ETA: 0s - loss: 0.6889 - acc: 0.532 - ETA: 0s - loss: 0.6889 - acc: 0.532 - ETA: 0s - loss: 0.6889 - acc: 0.532 - ETA: 0s - loss: 0.6890 - acc: 0.532 - ETA: 0s - loss: 0.6890 - acc: 0.531 - ETA: 0s - loss: 0.6890 - acc: 0.531 - ETA: 0s - loss: 0.6890 - acc: 0.531 - ETA: 0s - loss: 0.6891 - acc: 0.531 - ETA: 0s - loss: 0.6891 - acc: 0.530 - ETA: 0s - loss: 0.6891 - acc: 0.530 - ETA: 0s - loss: 0.6891 - acc: 0.530 - ETA: 0s - loss: 0.6892 - acc: 0.530 - ETA: 0s - loss: 0.6892 - acc: 0.530 - ETA: 0s - loss: 0.6892 - acc: 0.530 - ETA: 0s - loss: 0.6892 - acc: 0.530 - ETA: 0s - loss: 0.6892 - acc: 0.530 - ETA: 0s - loss: 0.6893 - acc: 0.530 - ETA: 0s - loss: 0.6893 - acc: 0.529 - ETA: 0s - loss: 0.6893 - acc: 0.529 - 9s 137us/sample - loss: 0.6893 - acc: 0.5295\n",
      "Epoch 8/10\n"
     ]
    },
    {
     "name": "stdout",
     "output_type": "stream",
     "text": [
      "69301/69301 [==============================] - ETA: 48s - loss: 0.6887 - acc: 0.90 - ETA: 10s - loss: 0.6926 - acc: 0.46 - ETA: 9s - loss: 0.6925 - acc: 0.4610 - ETA: 9s - loss: 0.6927 - acc: 0.480 - ETA: 9s - loss: 0.6925 - acc: 0.482 - ETA: 9s - loss: 0.6921 - acc: 0.483 - ETA: 9s - loss: 0.6921 - acc: 0.486 - ETA: 9s - loss: 0.6908 - acc: 0.483 - ETA: 9s - loss: 0.6909 - acc: 0.489 - ETA: 8s - loss: 0.6906 - acc: 0.491 - ETA: 8s - loss: 0.6909 - acc: 0.492 - ETA: 8s - loss: 0.6906 - acc: 0.494 - ETA: 8s - loss: 0.6908 - acc: 0.492 - ETA: 8s - loss: 0.6899 - acc: 0.496 - ETA: 8s - loss: 0.6901 - acc: 0.497 - ETA: 8s - loss: 0.6895 - acc: 0.500 - ETA: 8s - loss: 0.6891 - acc: 0.504 - ETA: 8s - loss: 0.6889 - acc: 0.505 - ETA: 8s - loss: 0.6888 - acc: 0.508 - ETA: 8s - loss: 0.6883 - acc: 0.510 - ETA: 8s - loss: 0.6877 - acc: 0.513 - ETA: 8s - loss: 0.6883 - acc: 0.512 - ETA: 8s - loss: 0.6881 - acc: 0.513 - ETA: 8s - loss: 0.6877 - acc: 0.516 - ETA: 8s - loss: 0.6873 - acc: 0.518 - ETA: 8s - loss: 0.6869 - acc: 0.520 - ETA: 7s - loss: 0.6867 - acc: 0.522 - ETA: 7s - loss: 0.6870 - acc: 0.521 - ETA: 7s - loss: 0.6874 - acc: 0.519 - ETA: 7s - loss: 0.6874 - acc: 0.520 - ETA: 7s - loss: 0.6876 - acc: 0.519 - ETA: 7s - loss: 0.6879 - acc: 0.517 - ETA: 7s - loss: 0.6880 - acc: 0.518 - ETA: 7s - loss: 0.6882 - acc: 0.517 - ETA: 7s - loss: 0.6883 - acc: 0.516 - ETA: 7s - loss: 0.6884 - acc: 0.515 - ETA: 7s - loss: 0.6885 - acc: 0.514 - ETA: 7s - loss: 0.6888 - acc: 0.512 - ETA: 7s - loss: 0.6889 - acc: 0.512 - ETA: 7s - loss: 0.6889 - acc: 0.513 - ETA: 7s - loss: 0.6889 - acc: 0.514 - ETA: 7s - loss: 0.6889 - acc: 0.515 - ETA: 7s - loss: 0.6889 - acc: 0.515 - ETA: 7s - loss: 0.6889 - acc: 0.514 - ETA: 6s - loss: 0.6889 - acc: 0.514 - ETA: 6s - loss: 0.6889 - acc: 0.515 - ETA: 6s - loss: 0.6906 - acc: 0.514 - ETA: 6s - loss: 0.6907 - acc: 0.515 - ETA: 6s - loss: 0.6907 - acc: 0.514 - ETA: 6s - loss: 0.6907 - acc: 0.514 - ETA: 6s - loss: 0.6907 - acc: 0.514 - ETA: 6s - loss: 0.6907 - acc: 0.514 - ETA: 6s - loss: 0.6907 - acc: 0.515 - ETA: 6s - loss: 0.6906 - acc: 0.515 - ETA: 6s - loss: 0.6905 - acc: 0.515 - ETA: 6s - loss: 0.6905 - acc: 0.516 - ETA: 6s - loss: 0.6905 - acc: 0.516 - ETA: 6s - loss: 0.6903 - acc: 0.518 - ETA: 6s - loss: 0.6902 - acc: 0.518 - ETA: 6s - loss: 0.6898 - acc: 0.519 - ETA: 6s - loss: 0.6896 - acc: 0.520 - ETA: 6s - loss: 0.6897 - acc: 0.520 - ETA: 6s - loss: 0.6895 - acc: 0.521 - ETA: 5s - loss: 0.6894 - acc: 0.522 - ETA: 5s - loss: 0.6893 - acc: 0.522 - ETA: 5s - loss: 0.6892 - acc: 0.523 - ETA: 5s - loss: 0.6890 - acc: 0.524 - ETA: 5s - loss: 0.6888 - acc: 0.525 - ETA: 5s - loss: 0.6890 - acc: 0.525 - ETA: 5s - loss: 0.6890 - acc: 0.526 - ETA: 5s - loss: 0.6887 - acc: 0.527 - ETA: 5s - loss: 0.6885 - acc: 0.527 - ETA: 5s - loss: 0.6886 - acc: 0.527 - ETA: 5s - loss: 0.6885 - acc: 0.527 - ETA: 5s - loss: 0.6882 - acc: 0.528 - ETA: 5s - loss: 0.6880 - acc: 0.529 - ETA: 5s - loss: 0.6879 - acc: 0.529 - ETA: 5s - loss: 0.6879 - acc: 0.529 - ETA: 5s - loss: 0.6878 - acc: 0.530 - ETA: 5s - loss: 0.6905 - acc: 0.530 - ETA: 5s - loss: 0.6905 - acc: 0.530 - ETA: 5s - loss: 0.6906 - acc: 0.529 - ETA: 5s - loss: 0.6906 - acc: 0.529 - ETA: 4s - loss: 0.6907 - acc: 0.529 - ETA: 4s - loss: 0.6910 - acc: 0.528 - ETA: 4s - loss: 0.6911 - acc: 0.528 - ETA: 4s - loss: 0.6911 - acc: 0.528 - ETA: 4s - loss: 0.6911 - acc: 0.528 - ETA: 4s - loss: 0.6911 - acc: 0.527 - ETA: 4s - loss: 0.6911 - acc: 0.527 - ETA: 4s - loss: 0.6911 - acc: 0.527 - ETA: 4s - loss: 0.6914 - acc: 0.527 - ETA: 4s - loss: 0.6914 - acc: 0.526 - ETA: 4s - loss: 0.6914 - acc: 0.526 - ETA: 4s - loss: 0.6914 - acc: 0.525 - ETA: 4s - loss: 0.6915 - acc: 0.525 - ETA: 4s - loss: 0.6915 - acc: 0.525 - ETA: 4s - loss: 0.6915 - acc: 0.524 - ETA: 4s - loss: 0.6914 - acc: 0.525 - ETA: 4s - loss: 0.6914 - acc: 0.525 - ETA: 4s - loss: 0.6913 - acc: 0.526 - ETA: 4s - loss: 0.6912 - acc: 0.526 - ETA: 3s - loss: 0.6911 - acc: 0.526 - ETA: 3s - loss: 0.6910 - acc: 0.526 - ETA: 3s - loss: 0.6909 - acc: 0.526 - ETA: 3s - loss: 0.6909 - acc: 0.526 - ETA: 3s - loss: 0.6908 - acc: 0.527 - ETA: 3s - loss: 0.6907 - acc: 0.527 - ETA: 3s - loss: 0.6907 - acc: 0.527 - ETA: 3s - loss: 0.6906 - acc: 0.528 - ETA: 3s - loss: 0.6905 - acc: 0.528 - ETA: 3s - loss: 0.6904 - acc: 0.528 - ETA: 3s - loss: 0.6904 - acc: 0.528 - ETA: 3s - loss: 0.6903 - acc: 0.528 - ETA: 3s - loss: 0.6906 - acc: 0.529 - ETA: 3s - loss: 0.6905 - acc: 0.529 - ETA: 3s - loss: 0.6904 - acc: 0.529 - ETA: 3s - loss: 0.6904 - acc: 0.529 - ETA: 3s - loss: 0.6903 - acc: 0.530 - ETA: 3s - loss: 0.6902 - acc: 0.530 - ETA: 3s - loss: 0.6901 - acc: 0.530 - ETA: 2s - loss: 0.6901 - acc: 0.530 - ETA: 2s - loss: 0.6900 - acc: 0.531 - ETA: 2s - loss: 0.6900 - acc: 0.531 - ETA: 2s - loss: 0.6899 - acc: 0.531 - ETA: 2s - loss: 0.6899 - acc: 0.531 - ETA: 2s - loss: 0.6898 - acc: 0.531 - ETA: 2s - loss: 0.6898 - acc: 0.531 - ETA: 2s - loss: 0.6896 - acc: 0.532 - ETA: 2s - loss: 0.6896 - acc: 0.532 - ETA: 2s - loss: 0.6895 - acc: 0.532 - ETA: 2s - loss: 0.6894 - acc: 0.532 - ETA: 2s - loss: 0.6894 - acc: 0.532 - ETA: 2s - loss: 0.6893 - acc: 0.532 - ETA: 2s - loss: 0.6892 - acc: 0.532 - ETA: 2s - loss: 0.6892 - acc: 0.532 - ETA: 2s - loss: 0.6891 - acc: 0.532 - ETA: 2s - loss: 0.6891 - acc: 0.533 - ETA: 2s - loss: 0.6894 - acc: 0.533 - ETA: 2s - loss: 0.6893 - acc: 0.534 - ETA: 2s - loss: 0.6892 - acc: 0.534 - ETA: 1s - loss: 0.6890 - acc: 0.534 - ETA: 1s - loss: 0.6889 - acc: 0.534 - ETA: 1s - loss: 0.6889 - acc: 0.534 - ETA: 1s - loss: 0.6888 - acc: 0.535 - ETA: 1s - loss: 0.6888 - acc: 0.534 - ETA: 1s - loss: 0.6889 - acc: 0.534 - ETA: 1s - loss: 0.6888 - acc: 0.534 - ETA: 1s - loss: 0.6888 - acc: 0.534 - ETA: 1s - loss: 0.6888 - acc: 0.534 - ETA: 1s - loss: 0.6887 - acc: 0.535 - ETA: 1s - loss: 0.6886 - acc: 0.535 - ETA: 1s - loss: 0.6886 - acc: 0.535 - ETA: 1s - loss: 0.6885 - acc: 0.535 - ETA: 1s - loss: 0.6884 - acc: 0.535 - ETA: 1s - loss: 0.6884 - acc: 0.536 - ETA: 1s - loss: 0.6883 - acc: 0.536 - ETA: 1s - loss: 0.6882 - acc: 0.536 - ETA: 1s - loss: 0.6881 - acc: 0.537 - ETA: 1s - loss: 0.6880 - acc: 0.537 - ETA: 0s - loss: 0.6881 - acc: 0.537 - ETA: 0s - loss: 0.6880 - acc: 0.537 - ETA: 0s - loss: 0.6879 - acc: 0.537 - ETA: 0s - loss: 0.6878 - acc: 0.538 - ETA: 0s - loss: 0.6877 - acc: 0.538 - ETA: 0s - loss: 0.6877 - acc: 0.538 - ETA: 0s - loss: 0.6877 - acc: 0.538 - ETA: 0s - loss: 0.6876 - acc: 0.538 - ETA: 0s - loss: 0.6876 - acc: 0.538 - ETA: 0s - loss: 0.6876 - acc: 0.538 - ETA: 0s - loss: 0.6878 - acc: 0.538 - ETA: 0s - loss: 0.6879 - acc: 0.537 - ETA: 0s - loss: 0.6879 - acc: 0.537 - ETA: 0s - loss: 0.6879 - acc: 0.537 - ETA: 0s - loss: 0.6879 - acc: 0.537 - ETA: 0s - loss: 0.6880 - acc: 0.537 - ETA: 0s - loss: 0.6880 - acc: 0.537 - ETA: 0s - loss: 0.6881 - acc: 0.536 - ETA: 0s - loss: 0.6881 - acc: 0.536 - ETA: 0s - loss: 0.6881 - acc: 0.536 - 9s 132us/sample - loss: 0.6881 - acc: 0.5363\n",
      "Epoch 9/10\n"
     ]
    },
    {
     "name": "stdout",
     "output_type": "stream",
     "text": [
      "69301/69301 [==============================] - ETA: 55s - loss: 0.6941 - acc: 0.50 - ETA: 10s - loss: 0.6923 - acc: 0.50 - ETA: 9s - loss: 0.6919 - acc: 0.5026 - ETA: 9s - loss: 0.6912 - acc: 0.502 - ETA: 9s - loss: 0.6929 - acc: 0.478 - ETA: 9s - loss: 0.6921 - acc: 0.486 - ETA: 9s - loss: 0.6917 - acc: 0.487 - ETA: 9s - loss: 0.6920 - acc: 0.487 - ETA: 9s - loss: 0.6921 - acc: 0.488 - ETA: 9s - loss: 0.6917 - acc: 0.491 - ETA: 9s - loss: 0.6921 - acc: 0.489 - ETA: 8s - loss: 0.6920 - acc: 0.491 - ETA: 8s - loss: 0.6919 - acc: 0.493 - ETA: 8s - loss: 0.6915 - acc: 0.492 - ETA: 8s - loss: 0.6911 - acc: 0.493 - ETA: 8s - loss: 0.6913 - acc: 0.493 - ETA: 8s - loss: 0.6913 - acc: 0.493 - ETA: 8s - loss: 0.6913 - acc: 0.494 - ETA: 8s - loss: 0.6915 - acc: 0.497 - ETA: 8s - loss: 0.6918 - acc: 0.495 - ETA: 8s - loss: 0.6918 - acc: 0.496 - ETA: 8s - loss: 0.6915 - acc: 0.499 - ETA: 8s - loss: 0.6909 - acc: 0.503 - ETA: 8s - loss: 0.6906 - acc: 0.505 - ETA: 8s - loss: 0.6908 - acc: 0.506 - ETA: 8s - loss: 0.6906 - acc: 0.509 - ETA: 8s - loss: 0.6904 - acc: 0.512 - ETA: 8s - loss: 0.6899 - acc: 0.514 - ETA: 8s - loss: 0.6893 - acc: 0.516 - ETA: 8s - loss: 0.6891 - acc: 0.516 - ETA: 8s - loss: 0.6885 - acc: 0.518 - ETA: 8s - loss: 0.6889 - acc: 0.520 - ETA: 8s - loss: 0.6887 - acc: 0.520 - ETA: 8s - loss: 0.6884 - acc: 0.521 - ETA: 8s - loss: 0.6877 - acc: 0.523 - ETA: 8s - loss: 0.6874 - acc: 0.524 - ETA: 8s - loss: 0.6871 - acc: 0.526 - ETA: 8s - loss: 0.6867 - acc: 0.527 - ETA: 8s - loss: 0.6867 - acc: 0.527 - ETA: 8s - loss: 0.6869 - acc: 0.526 - ETA: 8s - loss: 0.6870 - acc: 0.526 - ETA: 8s - loss: 0.6871 - acc: 0.525 - ETA: 8s - loss: 0.6873 - acc: 0.525 - ETA: 8s - loss: 0.6872 - acc: 0.526 - ETA: 8s - loss: 0.6873 - acc: 0.526 - ETA: 8s - loss: 0.6874 - acc: 0.526 - ETA: 8s - loss: 0.6875 - acc: 0.525 - ETA: 8s - loss: 0.6876 - acc: 0.525 - ETA: 8s - loss: 0.6877 - acc: 0.524 - ETA: 8s - loss: 0.6878 - acc: 0.523 - ETA: 8s - loss: 0.6879 - acc: 0.522 - ETA: 7s - loss: 0.6880 - acc: 0.521 - ETA: 7s - loss: 0.6881 - acc: 0.520 - ETA: 7s - loss: 0.6882 - acc: 0.519 - ETA: 7s - loss: 0.6883 - acc: 0.519 - ETA: 7s - loss: 0.6882 - acc: 0.519 - ETA: 7s - loss: 0.6883 - acc: 0.519 - ETA: 7s - loss: 0.6884 - acc: 0.518 - ETA: 7s - loss: 0.6885 - acc: 0.518 - ETA: 7s - loss: 0.6885 - acc: 0.518 - ETA: 7s - loss: 0.6885 - acc: 0.518 - ETA: 7s - loss: 0.6885 - acc: 0.518 - ETA: 7s - loss: 0.6885 - acc: 0.517 - ETA: 7s - loss: 0.6886 - acc: 0.516 - ETA: 7s - loss: 0.6886 - acc: 0.517 - ETA: 7s - loss: 0.6886 - acc: 0.516 - ETA: 7s - loss: 0.6886 - acc: 0.516 - ETA: 7s - loss: 0.6886 - acc: 0.516 - ETA: 7s - loss: 0.6887 - acc: 0.515 - ETA: 7s - loss: 0.6888 - acc: 0.514 - ETA: 7s - loss: 0.6888 - acc: 0.514 - ETA: 6s - loss: 0.6888 - acc: 0.515 - ETA: 6s - loss: 0.6889 - acc: 0.515 - ETA: 6s - loss: 0.6890 - acc: 0.514 - ETA: 6s - loss: 0.6890 - acc: 0.514 - ETA: 6s - loss: 0.6890 - acc: 0.514 - ETA: 6s - loss: 0.6890 - acc: 0.513 - ETA: 6s - loss: 0.6891 - acc: 0.514 - ETA: 6s - loss: 0.6891 - acc: 0.514 - ETA: 6s - loss: 0.6891 - acc: 0.514 - ETA: 6s - loss: 0.6891 - acc: 0.513 - ETA: 6s - loss: 0.6891 - acc: 0.513 - ETA: 6s - loss: 0.6892 - acc: 0.513 - ETA: 6s - loss: 0.6892 - acc: 0.514 - ETA: 6s - loss: 0.6891 - acc: 0.513 - ETA: 6s - loss: 0.6891 - acc: 0.513 - ETA: 6s - loss: 0.6891 - acc: 0.513 - ETA: 6s - loss: 0.6892 - acc: 0.513 - ETA: 5s - loss: 0.6894 - acc: 0.513 - ETA: 5s - loss: 0.6894 - acc: 0.513 - ETA: 5s - loss: 0.6895 - acc: 0.513 - ETA: 5s - loss: 0.6895 - acc: 0.513 - ETA: 5s - loss: 0.6895 - acc: 0.513 - ETA: 5s - loss: 0.6895 - acc: 0.513 - ETA: 5s - loss: 0.6895 - acc: 0.513 - ETA: 5s - loss: 0.6895 - acc: 0.513 - ETA: 5s - loss: 0.6896 - acc: 0.513 - ETA: 5s - loss: 0.6897 - acc: 0.512 - ETA: 5s - loss: 0.6897 - acc: 0.512 - ETA: 5s - loss: 0.6898 - acc: 0.512 - ETA: 5s - loss: 0.6898 - acc: 0.512 - ETA: 5s - loss: 0.6898 - acc: 0.512 - ETA: 5s - loss: 0.6898 - acc: 0.512 - ETA: 5s - loss: 0.6904 - acc: 0.512 - ETA: 5s - loss: 0.6904 - acc: 0.512 - ETA: 5s - loss: 0.6904 - acc: 0.512 - ETA: 4s - loss: 0.6904 - acc: 0.512 - ETA: 4s - loss: 0.6905 - acc: 0.512 - ETA: 4s - loss: 0.6905 - acc: 0.513 - ETA: 4s - loss: 0.6905 - acc: 0.512 - ETA: 4s - loss: 0.6905 - acc: 0.512 - ETA: 4s - loss: 0.6905 - acc: 0.513 - ETA: 4s - loss: 0.6905 - acc: 0.512 - ETA: 4s - loss: 0.6904 - acc: 0.513 - ETA: 4s - loss: 0.6903 - acc: 0.513 - ETA: 4s - loss: 0.6905 - acc: 0.513 - ETA: 4s - loss: 0.6904 - acc: 0.513 - ETA: 4s - loss: 0.6903 - acc: 0.514 - ETA: 4s - loss: 0.6902 - acc: 0.514 - ETA: 4s - loss: 0.6903 - acc: 0.514 - ETA: 4s - loss: 0.6902 - acc: 0.514 - ETA: 4s - loss: 0.6901 - acc: 0.514 - ETA: 4s - loss: 0.6900 - acc: 0.515 - ETA: 4s - loss: 0.6900 - acc: 0.515 - ETA: 3s - loss: 0.6899 - acc: 0.516 - ETA: 3s - loss: 0.6899 - acc: 0.516 - ETA: 3s - loss: 0.6899 - acc: 0.516 - ETA: 3s - loss: 0.6899 - acc: 0.515 - ETA: 3s - loss: 0.6902 - acc: 0.515 - ETA: 3s - loss: 0.6902 - acc: 0.515 - ETA: 3s - loss: 0.6902 - acc: 0.515 - ETA: 3s - loss: 0.6902 - acc: 0.515 - ETA: 3s - loss: 0.6902 - acc: 0.515 - ETA: 3s - loss: 0.6902 - acc: 0.514 - ETA: 3s - loss: 0.6903 - acc: 0.514 - ETA: 3s - loss: 0.6903 - acc: 0.514 - ETA: 3s - loss: 0.6902 - acc: 0.514 - ETA: 3s - loss: 0.6902 - acc: 0.514 - ETA: 3s - loss: 0.6904 - acc: 0.514 - ETA: 3s - loss: 0.6903 - acc: 0.514 - ETA: 3s - loss: 0.6903 - acc: 0.515 - ETA: 3s - loss: 0.6902 - acc: 0.515 - ETA: 2s - loss: 0.6902 - acc: 0.516 - ETA: 2s - loss: 0.6901 - acc: 0.516 - ETA: 2s - loss: 0.6901 - acc: 0.516 - ETA: 2s - loss: 0.6900 - acc: 0.516 - ETA: 2s - loss: 0.6899 - acc: 0.517 - ETA: 2s - loss: 0.6898 - acc: 0.517 - ETA: 2s - loss: 0.6912 - acc: 0.518 - ETA: 2s - loss: 0.6912 - acc: 0.518 - ETA: 2s - loss: 0.6912 - acc: 0.518 - ETA: 2s - loss: 0.6912 - acc: 0.518 - ETA: 2s - loss: 0.6912 - acc: 0.518 - ETA: 2s - loss: 0.6911 - acc: 0.518 - ETA: 2s - loss: 0.6912 - acc: 0.519 - ETA: 2s - loss: 0.6912 - acc: 0.519 - ETA: 2s - loss: 0.6911 - acc: 0.519 - ETA: 2s - loss: 0.6911 - acc: 0.520 - ETA: 2s - loss: 0.6910 - acc: 0.520 - ETA: 2s - loss: 0.6909 - acc: 0.520 - ETA: 1s - loss: 0.6909 - acc: 0.520 - ETA: 1s - loss: 0.6909 - acc: 0.520 - ETA: 1s - loss: 0.6908 - acc: 0.521 - ETA: 1s - loss: 0.6907 - acc: 0.521 - ETA: 1s - loss: 0.6906 - acc: 0.522 - ETA: 1s - loss: 0.6905 - acc: 0.522 - ETA: 1s - loss: 0.6905 - acc: 0.522 - ETA: 1s - loss: 0.6904 - acc: 0.522 - ETA: 1s - loss: 0.6904 - acc: 0.523 - ETA: 1s - loss: 0.6904 - acc: 0.523 - ETA: 1s - loss: 0.6903 - acc: 0.523 - ETA: 1s - loss: 0.6903 - acc: 0.523 - ETA: 1s - loss: 0.6902 - acc: 0.523 - ETA: 1s - loss: 0.6902 - acc: 0.524 - ETA: 1s - loss: 0.6901 - acc: 0.524 - ETA: 1s - loss: 0.6900 - acc: 0.524 - ETA: 1s - loss: 0.6900 - acc: 0.524 - ETA: 1s - loss: 0.6900 - acc: 0.524 - ETA: 1s - loss: 0.6899 - acc: 0.524 - ETA: 0s - loss: 0.6898 - acc: 0.525 - ETA: 0s - loss: 0.6898 - acc: 0.525 - ETA: 0s - loss: 0.6897 - acc: 0.525 - ETA: 0s - loss: 0.6897 - acc: 0.525 - ETA: 0s - loss: 0.6895 - acc: 0.526 - ETA: 0s - loss: 0.6895 - acc: 0.526 - ETA: 0s - loss: 0.6895 - acc: 0.526 - ETA: 0s - loss: 0.6894 - acc: 0.526 - ETA: 0s - loss: 0.6894 - acc: 0.527 - ETA: 0s - loss: 0.6893 - acc: 0.527 - ETA: 0s - loss: 0.6892 - acc: 0.527 - ETA: 0s - loss: 0.6892 - acc: 0.527 - ETA: 0s - loss: 0.6891 - acc: 0.528 - ETA: 0s - loss: 0.6891 - acc: 0.528 - ETA: 0s - loss: 0.6891 - acc: 0.528 - ETA: 0s - loss: 0.6891 - acc: 0.528 - ETA: 0s - loss: 0.6892 - acc: 0.527 - ETA: 0s - loss: 0.6892 - acc: 0.527 - ETA: 0s - loss: 0.6891 - acc: 0.528 - ETA: 0s - loss: 0.6892 - acc: 0.527 - ETA: 0s - loss: 0.6892 - acc: 0.527 - 10s 147us/sample - loss: 0.6892 - acc: 0.5276\n",
      "Epoch 10/10\n"
     ]
    },
    {
     "name": "stdout",
     "output_type": "stream",
     "text": [
      "69301/69301 [==============================] - ETA: 1:02 - loss: 0.7323 - acc: 0.200 - ETA: 10s - loss: 0.6935 - acc: 0.534 - ETA: 10s - loss: 0.6923 - acc: 0.53 - ETA: 10s - loss: 0.6922 - acc: 0.52 - ETA: 10s - loss: 0.6926 - acc: 0.51 - ETA: 10s - loss: 0.6924 - acc: 0.51 - ETA: 10s - loss: 0.6929 - acc: 0.51 - ETA: 10s - loss: 0.6931 - acc: 0.51 - ETA: 10s - loss: 0.6927 - acc: 0.51 - ETA: 10s - loss: 0.6924 - acc: 0.51 - ETA: 10s - loss: 0.6923 - acc: 0.51 - ETA: 10s - loss: 0.6927 - acc: 0.51 - ETA: 10s - loss: 0.6924 - acc: 0.52 - ETA: 10s - loss: 0.6930 - acc: 0.51 - ETA: 10s - loss: 0.6930 - acc: 0.51 - ETA: 10s - loss: 0.6933 - acc: 0.51 - ETA: 10s - loss: 0.6929 - acc: 0.51 - ETA: 10s - loss: 0.6927 - acc: 0.51 - ETA: 10s - loss: 0.6927 - acc: 0.51 - ETA: 9s - loss: 0.6926 - acc: 0.5108 - ETA: 9s - loss: 0.6925 - acc: 0.510 - ETA: 9s - loss: 0.6926 - acc: 0.511 - ETA: 9s - loss: 0.6926 - acc: 0.512 - ETA: 9s - loss: 0.6926 - acc: 0.511 - ETA: 9s - loss: 0.6927 - acc: 0.510 - ETA: 9s - loss: 0.6927 - acc: 0.511 - ETA: 9s - loss: 0.6927 - acc: 0.509 - ETA: 9s - loss: 0.6926 - acc: 0.510 - ETA: 9s - loss: 0.6925 - acc: 0.512 - ETA: 9s - loss: 0.6924 - acc: 0.513 - ETA: 8s - loss: 0.6936 - acc: 0.513 - ETA: 8s - loss: 0.6936 - acc: 0.513 - ETA: 8s - loss: 0.6935 - acc: 0.514 - ETA: 8s - loss: 0.6936 - acc: 0.513 - ETA: 8s - loss: 0.6936 - acc: 0.512 - ETA: 8s - loss: 0.6934 - acc: 0.512 - ETA: 8s - loss: 0.6933 - acc: 0.513 - ETA: 8s - loss: 0.6933 - acc: 0.511 - ETA: 8s - loss: 0.6932 - acc: 0.512 - ETA: 8s - loss: 0.6928 - acc: 0.512 - ETA: 8s - loss: 0.6927 - acc: 0.514 - ETA: 8s - loss: 0.6920 - acc: 0.516 - ETA: 7s - loss: 0.6917 - acc: 0.517 - ETA: 7s - loss: 0.6925 - acc: 0.517 - ETA: 7s - loss: 0.6921 - acc: 0.518 - ETA: 7s - loss: 0.6920 - acc: 0.519 - ETA: 7s - loss: 0.6918 - acc: 0.519 - ETA: 7s - loss: 0.6917 - acc: 0.520 - ETA: 7s - loss: 0.6909 - acc: 0.522 - ETA: 7s - loss: 0.6911 - acc: 0.521 - ETA: 7s - loss: 0.6911 - acc: 0.521 - ETA: 7s - loss: 0.6911 - acc: 0.520 - ETA: 7s - loss: 0.6911 - acc: 0.519 - ETA: 7s - loss: 0.6911 - acc: 0.519 - ETA: 7s - loss: 0.6911 - acc: 0.519 - ETA: 7s - loss: 0.6911 - acc: 0.519 - ETA: 7s - loss: 0.6912 - acc: 0.519 - ETA: 7s - loss: 0.6911 - acc: 0.519 - ETA: 7s - loss: 0.6911 - acc: 0.519 - ETA: 6s - loss: 0.6916 - acc: 0.520 - ETA: 6s - loss: 0.6913 - acc: 0.522 - ETA: 6s - loss: 0.6911 - acc: 0.522 - ETA: 6s - loss: 0.6909 - acc: 0.523 - ETA: 6s - loss: 0.6908 - acc: 0.524 - ETA: 6s - loss: 0.6906 - acc: 0.525 - ETA: 6s - loss: 0.6901 - acc: 0.525 - ETA: 6s - loss: 0.6900 - acc: 0.526 - ETA: 6s - loss: 0.6897 - acc: 0.526 - ETA: 6s - loss: 0.6897 - acc: 0.526 - ETA: 6s - loss: 0.6897 - acc: 0.526 - ETA: 6s - loss: 0.6896 - acc: 0.526 - ETA: 6s - loss: 0.6895 - acc: 0.526 - ETA: 6s - loss: 0.6894 - acc: 0.526 - ETA: 6s - loss: 0.6892 - acc: 0.527 - ETA: 6s - loss: 0.6891 - acc: 0.527 - ETA: 6s - loss: 0.6888 - acc: 0.528 - ETA: 6s - loss: 0.6886 - acc: 0.528 - ETA: 6s - loss: 0.6884 - acc: 0.528 - ETA: 5s - loss: 0.6884 - acc: 0.529 - ETA: 5s - loss: 0.6882 - acc: 0.529 - ETA: 5s - loss: 0.6881 - acc: 0.529 - ETA: 5s - loss: 0.6887 - acc: 0.529 - ETA: 5s - loss: 0.6887 - acc: 0.529 - ETA: 5s - loss: 0.6886 - acc: 0.530 - ETA: 5s - loss: 0.6888 - acc: 0.531 - ETA: 5s - loss: 0.6886 - acc: 0.531 - ETA: 5s - loss: 0.6883 - acc: 0.532 - ETA: 5s - loss: 0.6882 - acc: 0.533 - ETA: 5s - loss: 0.6880 - acc: 0.533 - ETA: 5s - loss: 0.6879 - acc: 0.533 - ETA: 5s - loss: 0.6877 - acc: 0.533 - ETA: 5s - loss: 0.6876 - acc: 0.534 - ETA: 5s - loss: 0.6875 - acc: 0.534 - ETA: 5s - loss: 0.6873 - acc: 0.535 - ETA: 5s - loss: 0.6874 - acc: 0.535 - ETA: 4s - loss: 0.6874 - acc: 0.535 - ETA: 4s - loss: 0.6873 - acc: 0.535 - ETA: 4s - loss: 0.6872 - acc: 0.535 - ETA: 4s - loss: 0.6871 - acc: 0.536 - ETA: 4s - loss: 0.6869 - acc: 0.536 - ETA: 4s - loss: 0.6868 - acc: 0.536 - ETA: 4s - loss: 0.6866 - acc: 0.537 - ETA: 4s - loss: 0.6864 - acc: 0.537 - ETA: 4s - loss: 0.6864 - acc: 0.537 - ETA: 4s - loss: 0.6864 - acc: 0.537 - ETA: 4s - loss: 0.6862 - acc: 0.537 - ETA: 4s - loss: 0.6861 - acc: 0.538 - ETA: 4s - loss: 0.6860 - acc: 0.538 - ETA: 4s - loss: 0.6859 - acc: 0.539 - ETA: 4s - loss: 0.6859 - acc: 0.539 - ETA: 4s - loss: 0.6859 - acc: 0.539 - ETA: 4s - loss: 0.6858 - acc: 0.539 - ETA: 4s - loss: 0.6856 - acc: 0.539 - ETA: 4s - loss: 0.6855 - acc: 0.539 - ETA: 4s - loss: 0.6854 - acc: 0.540 - ETA: 4s - loss: 0.6853 - acc: 0.540 - ETA: 3s - loss: 0.6854 - acc: 0.539 - ETA: 3s - loss: 0.6855 - acc: 0.539 - ETA: 3s - loss: 0.6855 - acc: 0.539 - ETA: 3s - loss: 0.6893 - acc: 0.538 - ETA: 3s - loss: 0.6893 - acc: 0.539 - ETA: 3s - loss: 0.6892 - acc: 0.539 - ETA: 3s - loss: 0.6893 - acc: 0.538 - ETA: 3s - loss: 0.6893 - acc: 0.538 - ETA: 3s - loss: 0.6893 - acc: 0.538 - ETA: 3s - loss: 0.6893 - acc: 0.538 - ETA: 3s - loss: 0.6893 - acc: 0.537 - ETA: 3s - loss: 0.6894 - acc: 0.537 - ETA: 3s - loss: 0.6894 - acc: 0.537 - ETA: 3s - loss: 0.6895 - acc: 0.537 - ETA: 3s - loss: 0.6895 - acc: 0.537 - ETA: 3s - loss: 0.6894 - acc: 0.537 - ETA: 3s - loss: 0.6893 - acc: 0.537 - ETA: 3s - loss: 0.6893 - acc: 0.537 - ETA: 3s - loss: 0.6891 - acc: 0.538 - ETA: 3s - loss: 0.6889 - acc: 0.538 - ETA: 3s - loss: 0.6889 - acc: 0.538 - ETA: 2s - loss: 0.6888 - acc: 0.538 - ETA: 2s - loss: 0.6887 - acc: 0.538 - ETA: 2s - loss: 0.6886 - acc: 0.539 - ETA: 2s - loss: 0.6886 - acc: 0.539 - ETA: 2s - loss: 0.6884 - acc: 0.539 - ETA: 2s - loss: 0.6883 - acc: 0.540 - ETA: 2s - loss: 0.6883 - acc: 0.540 - ETA: 2s - loss: 0.6881 - acc: 0.541 - ETA: 2s - loss: 0.6880 - acc: 0.541 - ETA: 2s - loss: 0.6878 - acc: 0.541 - ETA: 2s - loss: 0.6876 - acc: 0.542 - ETA: 2s - loss: 0.6876 - acc: 0.542 - ETA: 2s - loss: 0.6876 - acc: 0.542 - ETA: 2s - loss: 0.6875 - acc: 0.542 - ETA: 2s - loss: 0.6874 - acc: 0.542 - ETA: 2s - loss: 0.6873 - acc: 0.543 - ETA: 2s - loss: 0.6872 - acc: 0.543 - ETA: 2s - loss: 0.6872 - acc: 0.543 - ETA: 2s - loss: 0.6871 - acc: 0.543 - ETA: 2s - loss: 0.6870 - acc: 0.543 - ETA: 2s - loss: 0.6869 - acc: 0.544 - ETA: 1s - loss: 0.6869 - acc: 0.544 - ETA: 1s - loss: 0.6867 - acc: 0.544 - ETA: 1s - loss: 0.6867 - acc: 0.544 - ETA: 1s - loss: 0.6867 - acc: 0.544 - ETA: 1s - loss: 0.6867 - acc: 0.544 - ETA: 1s - loss: 0.6866 - acc: 0.545 - ETA: 1s - loss: 0.6865 - acc: 0.545 - ETA: 1s - loss: 0.6865 - acc: 0.545 - ETA: 1s - loss: 0.6865 - acc: 0.545 - ETA: 1s - loss: 0.6865 - acc: 0.545 - ETA: 1s - loss: 0.6864 - acc: 0.545 - ETA: 1s - loss: 0.6862 - acc: 0.546 - ETA: 1s - loss: 0.6861 - acc: 0.546 - ETA: 1s - loss: 0.6860 - acc: 0.546 - ETA: 1s - loss: 0.6859 - acc: 0.546 - ETA: 1s - loss: 0.6859 - acc: 0.547 - ETA: 1s - loss: 0.6858 - acc: 0.547 - ETA: 1s - loss: 0.6857 - acc: 0.547 - ETA: 1s - loss: 0.6856 - acc: 0.547 - ETA: 1s - loss: 0.6854 - acc: 0.548 - ETA: 0s - loss: 0.6853 - acc: 0.548 - ETA: 0s - loss: 0.6852 - acc: 0.548 - ETA: 0s - loss: 0.6851 - acc: 0.548 - ETA: 0s - loss: 0.6851 - acc: 0.548 - ETA: 0s - loss: 0.6849 - acc: 0.549 - ETA: 0s - loss: 0.6849 - acc: 0.549 - ETA: 0s - loss: 0.6849 - acc: 0.549 - ETA: 0s - loss: 0.6848 - acc: 0.549 - ETA: 0s - loss: 0.6847 - acc: 0.549 - ETA: 0s - loss: 0.6847 - acc: 0.549 - ETA: 0s - loss: 0.6846 - acc: 0.549 - ETA: 0s - loss: 0.6844 - acc: 0.550 - ETA: 0s - loss: 0.6844 - acc: 0.550 - ETA: 0s - loss: 0.6843 - acc: 0.550 - ETA: 0s - loss: 0.6842 - acc: 0.550 - ETA: 0s - loss: 0.6842 - acc: 0.550 - ETA: 0s - loss: 0.6842 - acc: 0.550 - ETA: 0s - loss: 0.6847 - acc: 0.549 - 10s 145us/sample - loss: 0.6848 - acc: 0.5501\n"
     ]
    },
    {
     "data": {
      "text/plain": [
       "<tensorflow.python.keras.callbacks.History at 0x1fdbebd19e8>"
      ]
     },
     "execution_count": 25,
     "metadata": {},
     "output_type": "execute_result"
    }
   ],
   "source": [
    "classifier = Sequential()\n",
    "classifier.add(Dense(units = 6, kernel_initializer = 'uniform', activation = 'relu', input_dim = df_X.shape[1]))\n",
    "classifier.add(Dropout(0.2))\n",
    "classifier.add(Dense(units = 6, kernel_initializer = 'uniform', activation = 'relu'))\n",
    "classifier.add(Dropout(0.2))\n",
    "classifier.add(Dense(units = 6, kernel_initializer = 'uniform', activation = 'relu'))\n",
    "classifier.add(Dropout(0.2))\n",
    "classifier.add(Dense(units = 1, kernel_initializer = 'uniform', activation = 'sigmoid'))\n",
    "classifier.compile(optimizer = 'adam', loss = 'binary_crossentropy', metrics = ['accuracy'])\n",
    "classifier.fit(df_X, df_y, batch_size = 10, epochs = 10)"
   ]
  },
  {
   "cell_type": "code",
   "execution_count": null,
   "metadata": {},
   "outputs": [],
   "source": [
    "y_pred = classifier.predict(X_test)\n",
    "# print(\"\\nPredicted values: \"+str(y_pred)+\"\\n\")\n",
    "\n",
    "for i in range(len(y_pred)):\n",
    "    if y_pred[i] >= 0.5:\n",
    "        y_pred[i] = 1\n",
    "    else:\n",
    "        y_pred[i] = 0\n",
    "\n",
    "\n",
    "# print(y_test, y_pred)\n",
    "# Making the Confusion Matrix\n",
    "cm = confusion_matrix(y_test, y_pred)\n",
    "accuracy = (cm[0,0]+cm[1, 1])/(cm[0,0]+cm[1, 1]+cm[1,0]+cm[0, 1])\n",
    "print(\"\\nTest Accuracy: \"+str(accuracy)+\"\\n\")"
   ]
  },
  {
   "cell_type": "code",
   "execution_count": null,
   "metadata": {},
   "outputs": [],
   "source": [
    "classifier.summary()"
   ]
  },
  {
   "cell_type": "code",
   "execution_count": null,
   "metadata": {},
   "outputs": [],
   "source": [
    "models = []\n",
    "models.append((\"LR\",LogisticRegression()))\n",
    "models.append((\"NB\",GaussianNB()))\n",
    "models.append((\"RF\",RandomForestClassifier()))\n",
    "# models.append((\"SVC\",SVC()))\n",
    "models.append((\"Dtree\",DecisionTreeClassifier()))\n",
    "# models.append((\"XGB\",xgb.XGBClassifier()))\n",
    "models.append((\"KNN\",KNeighborsClassifier()))\n",
    "# models.append((\"XGBCat\",CatBoostClassifier(iterations=10, learning_rate=1, depth=5)))\n",
    "\n",
    "for name,model in models:\n",
    "    kfold = KFold(n_splits=2, random_state=22)\n",
    "    cv_result = cross_val_score(model,X_train,y_train, cv = kfold, scoring = \"accuracy\")\n",
    "    print(name, cv_result)"
   ]
  },
  {
   "cell_type": "code",
   "execution_count": null,
   "metadata": {},
   "outputs": [],
   "source": [
    "xgb_model = xgb.XGBClassifier().fit(X_train, y_train)\n",
    "print(\"Training: \"+str(xgb_model.score(X_train, y_train)))\n",
    "print(\"Testing: \"+str(xgb_model.score(X_test, y_test)))"
   ]
  },
  {
   "cell_type": "code",
   "execution_count": null,
   "metadata": {},
   "outputs": [],
   "source": []
  }
 ],
 "metadata": {
  "kernelspec": {
   "display_name": "Python 3",
   "language": "python",
   "name": "python3"
  },
  "language_info": {
   "codemirror_mode": {
    "name": "ipython",
    "version": 3
   },
   "file_extension": ".py",
   "mimetype": "text/x-python",
   "name": "python",
   "nbconvert_exporter": "python",
   "pygments_lexer": "ipython3",
   "version": "3.7.3"
  }
 },
 "nbformat": 4,
 "nbformat_minor": 2
}
